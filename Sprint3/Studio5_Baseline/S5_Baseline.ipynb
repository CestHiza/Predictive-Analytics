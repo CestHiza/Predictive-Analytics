{
 "cells": [
  {
   "cell_type": "markdown",
   "metadata": {
    "cell_id": "adea05a4948b4b07ae8cd65369f5c817",
    "deepnote_cell_type": "markdown"
   },
   "source": [
    "# Establishing a Baseline"
   ]
  },
  {
   "cell_type": "markdown",
   "metadata": {
    "cell_id": "a29244fe5bb141bfada8186da0dc52f1",
    "deepnote_cell_type": "markdown",
    "tags": []
   },
   "source": [
    "Let's revisit the COMPAS Recidivism Risk Scores dataset and the ProPublica analysis.\n",
    "\n",
    "References:\n",
    "\n",
    "https://www.propublica.org/article/how-we-analyzed-the-compas-recidivism-algorithm\n",
    "\n",
    "https://www.propublica.org/article/machine-bias-risk-assessments-in-criminal-sentencing\n",
    "\n",
    "https://github.com/propublica/compas-analysis"
   ]
  },
  {
   "cell_type": "code",
   "execution_count": 1,
   "metadata": {
    "cell_id": "8817c1d161c242669f46fce8814242c6",
    "deepnote_cell_type": "code",
    "deepnote_to_be_reexecuted": false,
    "execution_millis": 0,
    "execution_start": 1663760907421,
    "source_hash": "81f6f169",
    "tags": []
   },
   "outputs": [],
   "source": [
    "# Render our plots inline\n",
    "%matplotlib inline\n",
    "\n",
    "import pandas as pd\n",
    "import matplotlib.pyplot as plt\n",
    "import numpy as np\n",
    "\n",
    "# Make the graphs a bit prettier, and bigger\n",
    "plt.style.use('ggplot')\n",
    "plt.rcParams['figure.figsize'] = (15, 5)"
   ]
  },
  {
   "cell_type": "code",
   "execution_count": 2,
   "metadata": {
    "cell_id": "2ea5fbe22841424c897d66ac2b12c08f",
    "deepnote_cell_type": "code",
    "deepnote_to_be_reexecuted": false,
    "execution_millis": 640,
    "execution_start": 1663760907422,
    "source_hash": "dbfb8838"
   },
   "outputs": [
    {
     "data": {
      "text/html": [
       "<div>\n",
       "<style scoped>\n",
       "    .dataframe tbody tr th:only-of-type {\n",
       "        vertical-align: middle;\n",
       "    }\n",
       "\n",
       "    .dataframe tbody tr th {\n",
       "        vertical-align: top;\n",
       "    }\n",
       "\n",
       "    .dataframe thead th {\n",
       "        text-align: right;\n",
       "    }\n",
       "</style>\n",
       "<table border=\"1\" class=\"dataframe\">\n",
       "  <thead>\n",
       "    <tr style=\"text-align: right;\">\n",
       "      <th></th>\n",
       "      <th>id</th>\n",
       "      <th>name</th>\n",
       "      <th>first</th>\n",
       "      <th>last</th>\n",
       "      <th>sex</th>\n",
       "      <th>dob</th>\n",
       "      <th>age</th>\n",
       "      <th>age_cat</th>\n",
       "      <th>race</th>\n",
       "      <th>juv_fel_count</th>\n",
       "      <th>...</th>\n",
       "      <th>vr_charge_desc</th>\n",
       "      <th>type_of_assessment</th>\n",
       "      <th>decile_score.1</th>\n",
       "      <th>score_text</th>\n",
       "      <th>screening_date</th>\n",
       "      <th>v_type_of_assessment</th>\n",
       "      <th>v_decile_score</th>\n",
       "      <th>v_score_text</th>\n",
       "      <th>priors_count.1</th>\n",
       "      <th>event</th>\n",
       "    </tr>\n",
       "  </thead>\n",
       "  <tbody>\n",
       "    <tr>\n",
       "      <th>0</th>\n",
       "      <td>1.0</td>\n",
       "      <td>miguel hernandez</td>\n",
       "      <td>miguel</td>\n",
       "      <td>hernandez</td>\n",
       "      <td>Male</td>\n",
       "      <td>18/04/1947</td>\n",
       "      <td>69</td>\n",
       "      <td>Greater than 45</td>\n",
       "      <td>Other</td>\n",
       "      <td>0</td>\n",
       "      <td>...</td>\n",
       "      <td>NaN</td>\n",
       "      <td>Risk of Recidivism</td>\n",
       "      <td>1</td>\n",
       "      <td>Low</td>\n",
       "      <td>14/08/2013</td>\n",
       "      <td>Risk of Violence</td>\n",
       "      <td>1</td>\n",
       "      <td>Low</td>\n",
       "      <td>0</td>\n",
       "      <td>0</td>\n",
       "    </tr>\n",
       "    <tr>\n",
       "      <th>1</th>\n",
       "      <td>2.0</td>\n",
       "      <td>miguel hernandez</td>\n",
       "      <td>miguel</td>\n",
       "      <td>hernandez</td>\n",
       "      <td>Male</td>\n",
       "      <td>18/04/1947</td>\n",
       "      <td>69</td>\n",
       "      <td>Greater than 45</td>\n",
       "      <td>Other</td>\n",
       "      <td>0</td>\n",
       "      <td>...</td>\n",
       "      <td>NaN</td>\n",
       "      <td>Risk of Recidivism</td>\n",
       "      <td>1</td>\n",
       "      <td>Low</td>\n",
       "      <td>14/08/2013</td>\n",
       "      <td>Risk of Violence</td>\n",
       "      <td>1</td>\n",
       "      <td>Low</td>\n",
       "      <td>0</td>\n",
       "      <td>0</td>\n",
       "    </tr>\n",
       "    <tr>\n",
       "      <th>2</th>\n",
       "      <td>3.0</td>\n",
       "      <td>michael ryan</td>\n",
       "      <td>michael</td>\n",
       "      <td>ryan</td>\n",
       "      <td>Male</td>\n",
       "      <td>6/2/85</td>\n",
       "      <td>31</td>\n",
       "      <td>25 - 45</td>\n",
       "      <td>Caucasian</td>\n",
       "      <td>0</td>\n",
       "      <td>...</td>\n",
       "      <td>NaN</td>\n",
       "      <td>Risk of Recidivism</td>\n",
       "      <td>5</td>\n",
       "      <td>Medium</td>\n",
       "      <td>31/12/2014</td>\n",
       "      <td>Risk of Violence</td>\n",
       "      <td>2</td>\n",
       "      <td>Low</td>\n",
       "      <td>0</td>\n",
       "      <td>0</td>\n",
       "    </tr>\n",
       "    <tr>\n",
       "      <th>3</th>\n",
       "      <td>4.0</td>\n",
       "      <td>kevon dixon</td>\n",
       "      <td>kevon</td>\n",
       "      <td>dixon</td>\n",
       "      <td>Male</td>\n",
       "      <td>22/01/1982</td>\n",
       "      <td>34</td>\n",
       "      <td>25 - 45</td>\n",
       "      <td>African-American</td>\n",
       "      <td>0</td>\n",
       "      <td>...</td>\n",
       "      <td>Felony Battery (Dom Strang)</td>\n",
       "      <td>Risk of Recidivism</td>\n",
       "      <td>3</td>\n",
       "      <td>Low</td>\n",
       "      <td>27/01/2013</td>\n",
       "      <td>Risk of Violence</td>\n",
       "      <td>1</td>\n",
       "      <td>Low</td>\n",
       "      <td>0</td>\n",
       "      <td>1</td>\n",
       "    </tr>\n",
       "    <tr>\n",
       "      <th>4</th>\n",
       "      <td>5.0</td>\n",
       "      <td>ed philo</td>\n",
       "      <td>ed</td>\n",
       "      <td>philo</td>\n",
       "      <td>Male</td>\n",
       "      <td>14/05/1991</td>\n",
       "      <td>24</td>\n",
       "      <td>Less than 25</td>\n",
       "      <td>African-American</td>\n",
       "      <td>0</td>\n",
       "      <td>...</td>\n",
       "      <td>NaN</td>\n",
       "      <td>Risk of Recidivism</td>\n",
       "      <td>4</td>\n",
       "      <td>Low</td>\n",
       "      <td>14/04/2013</td>\n",
       "      <td>Risk of Violence</td>\n",
       "      <td>3</td>\n",
       "      <td>Low</td>\n",
       "      <td>4</td>\n",
       "      <td>0</td>\n",
       "    </tr>\n",
       "    <tr>\n",
       "      <th>...</th>\n",
       "      <td>...</td>\n",
       "      <td>...</td>\n",
       "      <td>...</td>\n",
       "      <td>...</td>\n",
       "      <td>...</td>\n",
       "      <td>...</td>\n",
       "      <td>...</td>\n",
       "      <td>...</td>\n",
       "      <td>...</td>\n",
       "      <td>...</td>\n",
       "      <td>...</td>\n",
       "      <td>...</td>\n",
       "      <td>...</td>\n",
       "      <td>...</td>\n",
       "      <td>...</td>\n",
       "      <td>...</td>\n",
       "      <td>...</td>\n",
       "      <td>...</td>\n",
       "      <td>...</td>\n",
       "      <td>...</td>\n",
       "      <td>...</td>\n",
       "    </tr>\n",
       "    <tr>\n",
       "      <th>18311</th>\n",
       "      <td>NaN</td>\n",
       "      <td>alexsandra beauchamps</td>\n",
       "      <td>alexsandra</td>\n",
       "      <td>beauchamps</td>\n",
       "      <td>Female</td>\n",
       "      <td>21/12/1984</td>\n",
       "      <td>31</td>\n",
       "      <td>25 - 45</td>\n",
       "      <td>African-American</td>\n",
       "      <td>0</td>\n",
       "      <td>...</td>\n",
       "      <td>NaN</td>\n",
       "      <td>Risk of Recidivism</td>\n",
       "      <td>6</td>\n",
       "      <td>Medium</td>\n",
       "      <td>29/12/2014</td>\n",
       "      <td>Risk of Violence</td>\n",
       "      <td>4</td>\n",
       "      <td>Low</td>\n",
       "      <td>5</td>\n",
       "      <td>0</td>\n",
       "    </tr>\n",
       "    <tr>\n",
       "      <th>18312</th>\n",
       "      <td>NaN</td>\n",
       "      <td>winston gregory</td>\n",
       "      <td>winston</td>\n",
       "      <td>gregory</td>\n",
       "      <td>Male</td>\n",
       "      <td>1/10/58</td>\n",
       "      <td>57</td>\n",
       "      <td>Greater than 45</td>\n",
       "      <td>Other</td>\n",
       "      <td>0</td>\n",
       "      <td>...</td>\n",
       "      <td>NaN</td>\n",
       "      <td>Risk of Recidivism</td>\n",
       "      <td>1</td>\n",
       "      <td>Low</td>\n",
       "      <td>14/01/2014</td>\n",
       "      <td>Risk of Violence</td>\n",
       "      <td>1</td>\n",
       "      <td>Low</td>\n",
       "      <td>0</td>\n",
       "      <td>0</td>\n",
       "    </tr>\n",
       "    <tr>\n",
       "      <th>18313</th>\n",
       "      <td>NaN</td>\n",
       "      <td>farrah jean</td>\n",
       "      <td>farrah</td>\n",
       "      <td>jean</td>\n",
       "      <td>Female</td>\n",
       "      <td>17/11/1982</td>\n",
       "      <td>33</td>\n",
       "      <td>25 - 45</td>\n",
       "      <td>African-American</td>\n",
       "      <td>0</td>\n",
       "      <td>...</td>\n",
       "      <td>NaN</td>\n",
       "      <td>Risk of Recidivism</td>\n",
       "      <td>2</td>\n",
       "      <td>Low</td>\n",
       "      <td>9/3/14</td>\n",
       "      <td>Risk of Violence</td>\n",
       "      <td>2</td>\n",
       "      <td>Low</td>\n",
       "      <td>3</td>\n",
       "      <td>0</td>\n",
       "    </tr>\n",
       "    <tr>\n",
       "      <th>18314</th>\n",
       "      <td>NaN</td>\n",
       "      <td>florencia sanmartin</td>\n",
       "      <td>florencia</td>\n",
       "      <td>sanmartin</td>\n",
       "      <td>Female</td>\n",
       "      <td>18/12/1992</td>\n",
       "      <td>23</td>\n",
       "      <td>Less than 25</td>\n",
       "      <td>Hispanic</td>\n",
       "      <td>0</td>\n",
       "      <td>...</td>\n",
       "      <td>NaN</td>\n",
       "      <td>Risk of Recidivism</td>\n",
       "      <td>4</td>\n",
       "      <td>Low</td>\n",
       "      <td>30/06/2014</td>\n",
       "      <td>Risk of Violence</td>\n",
       "      <td>4</td>\n",
       "      <td>Low</td>\n",
       "      <td>2</td>\n",
       "      <td>0</td>\n",
       "    </tr>\n",
       "    <tr>\n",
       "      <th>18315</th>\n",
       "      <td>NaN</td>\n",
       "      <td>florencia sanmartin</td>\n",
       "      <td>florencia</td>\n",
       "      <td>sanmartin</td>\n",
       "      <td>Female</td>\n",
       "      <td>18/12/1992</td>\n",
       "      <td>23</td>\n",
       "      <td>Less than 25</td>\n",
       "      <td>Hispanic</td>\n",
       "      <td>0</td>\n",
       "      <td>...</td>\n",
       "      <td>NaN</td>\n",
       "      <td>Risk of Recidivism</td>\n",
       "      <td>4</td>\n",
       "      <td>Low</td>\n",
       "      <td>30/06/2014</td>\n",
       "      <td>Risk of Violence</td>\n",
       "      <td>4</td>\n",
       "      <td>Low</td>\n",
       "      <td>2</td>\n",
       "      <td>0</td>\n",
       "    </tr>\n",
       "  </tbody>\n",
       "</table>\n",
       "<p>18316 rows × 40 columns</p>\n",
       "</div>"
      ],
      "text/plain": [
       "        id                   name       first        last     sex         dob  \\\n",
       "0      1.0       miguel hernandez      miguel   hernandez    Male  18/04/1947   \n",
       "1      2.0       miguel hernandez      miguel   hernandez    Male  18/04/1947   \n",
       "2      3.0           michael ryan     michael        ryan    Male      6/2/85   \n",
       "3      4.0            kevon dixon       kevon       dixon    Male  22/01/1982   \n",
       "4      5.0               ed philo          ed       philo    Male  14/05/1991   \n",
       "...    ...                    ...         ...         ...     ...         ...   \n",
       "18311  NaN  alexsandra beauchamps  alexsandra  beauchamps  Female  21/12/1984   \n",
       "18312  NaN        winston gregory     winston     gregory    Male     1/10/58   \n",
       "18313  NaN            farrah jean      farrah        jean  Female  17/11/1982   \n",
       "18314  NaN    florencia sanmartin   florencia   sanmartin  Female  18/12/1992   \n",
       "18315  NaN    florencia sanmartin   florencia   sanmartin  Female  18/12/1992   \n",
       "\n",
       "       age          age_cat              race  juv_fel_count  ...  \\\n",
       "0       69  Greater than 45             Other              0  ...   \n",
       "1       69  Greater than 45             Other              0  ...   \n",
       "2       31          25 - 45         Caucasian              0  ...   \n",
       "3       34          25 - 45  African-American              0  ...   \n",
       "4       24     Less than 25  African-American              0  ...   \n",
       "...    ...              ...               ...            ...  ...   \n",
       "18311   31          25 - 45  African-American              0  ...   \n",
       "18312   57  Greater than 45             Other              0  ...   \n",
       "18313   33          25 - 45  African-American              0  ...   \n",
       "18314   23     Less than 25          Hispanic              0  ...   \n",
       "18315   23     Less than 25          Hispanic              0  ...   \n",
       "\n",
       "                    vr_charge_desc  type_of_assessment  decile_score.1  \\\n",
       "0                              NaN  Risk of Recidivism               1   \n",
       "1                              NaN  Risk of Recidivism               1   \n",
       "2                              NaN  Risk of Recidivism               5   \n",
       "3      Felony Battery (Dom Strang)  Risk of Recidivism               3   \n",
       "4                              NaN  Risk of Recidivism               4   \n",
       "...                            ...                 ...             ...   \n",
       "18311                          NaN  Risk of Recidivism               6   \n",
       "18312                          NaN  Risk of Recidivism               1   \n",
       "18313                          NaN  Risk of Recidivism               2   \n",
       "18314                          NaN  Risk of Recidivism               4   \n",
       "18315                          NaN  Risk of Recidivism               4   \n",
       "\n",
       "       score_text  screening_date v_type_of_assessment v_decile_score  \\\n",
       "0             Low      14/08/2013     Risk of Violence              1   \n",
       "1             Low      14/08/2013     Risk of Violence              1   \n",
       "2          Medium      31/12/2014     Risk of Violence              2   \n",
       "3             Low      27/01/2013     Risk of Violence              1   \n",
       "4             Low      14/04/2013     Risk of Violence              3   \n",
       "...           ...             ...                  ...            ...   \n",
       "18311      Medium      29/12/2014     Risk of Violence              4   \n",
       "18312         Low      14/01/2014     Risk of Violence              1   \n",
       "18313         Low          9/3/14     Risk of Violence              2   \n",
       "18314         Low      30/06/2014     Risk of Violence              4   \n",
       "18315         Low      30/06/2014     Risk of Violence              4   \n",
       "\n",
       "       v_score_text priors_count.1 event  \n",
       "0               Low              0     0  \n",
       "1               Low              0     0  \n",
       "2               Low              0     0  \n",
       "3               Low              0     1  \n",
       "4               Low              4     0  \n",
       "...             ...            ...   ...  \n",
       "18311           Low              5     0  \n",
       "18312           Low              0     0  \n",
       "18313           Low              3     0  \n",
       "18314           Low              2     0  \n",
       "18315           Low              2     0  \n",
       "\n",
       "[18316 rows x 40 columns]"
      ]
     },
     "execution_count": 2,
     "metadata": {},
     "output_type": "execute_result"
    }
   ],
   "source": [
    "# Read dataset\n",
    "crime_df = pd.read_csv('./pb_compas.csv')\n",
    "crime_df"
   ]
  },
  {
   "cell_type": "code",
   "execution_count": 3,
   "metadata": {
    "cell_id": "0984585836d04b009df3c2a078fcece4",
    "deepnote_cell_type": "code",
    "deepnote_to_be_reexecuted": false,
    "execution_millis": 417,
    "execution_start": 1663760907651,
    "source_hash": "9433112"
   },
   "outputs": [
    {
     "data": {
      "text/plain": [
       "Index(['id', 'name', 'first', 'last', 'sex', 'dob', 'age', 'age_cat', 'race',\n",
       "       'juv_fel_count', 'decile_score', 'juv_misd_count', 'juv_other_count',\n",
       "       'priors_count', 'days_b_screening_arrest', 'c_jail_in', 'c_jail_out',\n",
       "       'c_days_from_compas', 'c_charge_degree', 'c_charge_desc', 'is_recid',\n",
       "       'r_charge_degree', 'r_days_from_arrest', 'r_offense_date',\n",
       "       'r_charge_desc', 'r_jail_in', 'violent_recid', 'is_violent_recid',\n",
       "       'vr_charge_degree', 'vr_offense_date', 'vr_charge_desc',\n",
       "       'type_of_assessment', 'decile_score.1', 'score_text', 'screening_date',\n",
       "       'v_type_of_assessment', 'v_decile_score', 'v_score_text',\n",
       "       'priors_count.1', 'event'],\n",
       "      dtype='object')"
      ]
     },
     "execution_count": 3,
     "metadata": {},
     "output_type": "execute_result"
    }
   ],
   "source": [
    "# list columns\n",
    "crime_df.columns"
   ]
  },
  {
   "cell_type": "code",
   "execution_count": 4,
   "metadata": {
    "cell_id": "21795be4da1b4b09add1ea3a6074f57f",
    "deepnote_cell_type": "code",
    "deepnote_to_be_reexecuted": false,
    "execution_millis": 417,
    "execution_start": 1663760907652,
    "source_hash": "43d89b48"
   },
   "outputs": [
    {
     "name": "stdout",
     "output_type": "stream",
     "text": [
      "<class 'pandas.core.frame.DataFrame'>\n",
      "RangeIndex: 18316 entries, 0 to 18315\n",
      "Data columns (total 40 columns):\n",
      " #   Column                   Non-Null Count  Dtype  \n",
      "---  ------                   --------------  -----  \n",
      " 0   id                       11001 non-null  float64\n",
      " 1   name                     18316 non-null  object \n",
      " 2   first                    18316 non-null  object \n",
      " 3   last                     18316 non-null  object \n",
      " 4   sex                      18316 non-null  object \n",
      " 5   dob                      18316 non-null  object \n",
      " 6   age                      18316 non-null  int64  \n",
      " 7   age_cat                  18316 non-null  object \n",
      " 8   race                     18316 non-null  object \n",
      " 9   juv_fel_count            18316 non-null  int64  \n",
      " 10  decile_score             18316 non-null  int64  \n",
      " 11  juv_misd_count           18316 non-null  int64  \n",
      " 12  juv_other_count          18316 non-null  int64  \n",
      " 13  priors_count             18316 non-null  int64  \n",
      " 14  days_b_screening_arrest  17019 non-null  float64\n",
      " 15  c_jail_in                17019 non-null  object \n",
      " 16  c_jail_out               17019 non-null  object \n",
      " 17  c_days_from_compas       17449 non-null  float64\n",
      " 18  c_charge_degree          17449 non-null  object \n",
      " 19  c_charge_desc            17435 non-null  object \n",
      " 20  is_recid                 18316 non-null  int64  \n",
      " 21  r_charge_degree          8417 non-null   object \n",
      " 22  r_days_from_arrest       6359 non-null   float64\n",
      " 23  r_offense_date           8417 non-null   object \n",
      " 24  r_charge_desc            8277 non-null   object \n",
      " 25  r_jail_in                6359 non-null   object \n",
      " 26  violent_recid            0 non-null      float64\n",
      " 27  is_violent_recid         18316 non-null  int64  \n",
      " 28  vr_charge_degree         1339 non-null   object \n",
      " 29  vr_offense_date          1339 non-null   object \n",
      " 30  vr_charge_desc           1339 non-null   object \n",
      " 31  type_of_assessment       18316 non-null  object \n",
      " 32  decile_score.1           18316 non-null  int64  \n",
      " 33  score_text               18293 non-null  object \n",
      " 34  screening_date           18316 non-null  object \n",
      " 35  v_type_of_assessment     18316 non-null  object \n",
      " 36  v_decile_score           18316 non-null  int64  \n",
      " 37  v_score_text             18310 non-null  object \n",
      " 38  priors_count.1           18316 non-null  int64  \n",
      " 39  event                    18316 non-null  int64  \n",
      "dtypes: float64(5), int64(12), object(23)\n",
      "memory usage: 5.6+ MB\n"
     ]
    }
   ],
   "source": [
    "# general dataset information\n",
    "crime_df.info()"
   ]
  },
  {
   "cell_type": "code",
   "execution_count": 5,
   "metadata": {
    "cell_id": "664cb19ec1bb4f6092eb959d5571b5cd",
    "deepnote_cell_type": "code",
    "deepnote_to_be_reexecuted": false,
    "execution_millis": 415,
    "execution_start": 1663760907654,
    "source_hash": "f792e28"
   },
   "outputs": [
    {
     "name": "stdout",
     "output_type": "stream",
     "text": [
      "<class 'pandas.core.frame.DataFrame'>\n",
      "Index: 11300 entries, 0 to 18314\n",
      "Data columns (total 40 columns):\n",
      " #   Column                   Non-Null Count  Dtype  \n",
      "---  ------                   --------------  -----  \n",
      " 0   id                       6789 non-null   float64\n",
      " 1   name                     11300 non-null  object \n",
      " 2   first                    11300 non-null  object \n",
      " 3   last                     11300 non-null  object \n",
      " 4   sex                      11300 non-null  object \n",
      " 5   dob                      11300 non-null  object \n",
      " 6   age                      11300 non-null  int64  \n",
      " 7   age_cat                  11300 non-null  object \n",
      " 8   race                     11300 non-null  object \n",
      " 9   juv_fel_count            11300 non-null  int64  \n",
      " 10  decile_score             11300 non-null  int64  \n",
      " 11  juv_misd_count           11300 non-null  int64  \n",
      " 12  juv_other_count          11300 non-null  int64  \n",
      " 13  priors_count             11300 non-null  int64  \n",
      " 14  days_b_screening_arrest  10200 non-null  float64\n",
      " 15  c_jail_in                10200 non-null  object \n",
      " 16  c_jail_out               10200 non-null  object \n",
      " 17  c_days_from_compas       10606 non-null  float64\n",
      " 18  c_charge_degree          10606 non-null  object \n",
      " 19  c_charge_desc            10599 non-null  object \n",
      " 20  is_recid                 11300 non-null  int64  \n",
      " 21  r_charge_degree          3772 non-null   object \n",
      " 22  r_days_from_arrest       2558 non-null   float64\n",
      " 23  r_offense_date           3772 non-null   object \n",
      " 24  r_charge_desc            3713 non-null   object \n",
      " 25  r_jail_in                2558 non-null   object \n",
      " 26  violent_recid            0 non-null      float64\n",
      " 27  is_violent_recid         11300 non-null  int64  \n",
      " 28  vr_charge_degree         1118 non-null   object \n",
      " 29  vr_offense_date          1118 non-null   object \n",
      " 30  vr_charge_desc           1118 non-null   object \n",
      " 31  type_of_assessment       11300 non-null  object \n",
      " 32  decile_score.1           11300 non-null  int64  \n",
      " 33  score_text               11286 non-null  object \n",
      " 34  screening_date           11300 non-null  object \n",
      " 35  v_type_of_assessment     11300 non-null  object \n",
      " 36  v_decile_score           11300 non-null  int64  \n",
      " 37  v_score_text             11295 non-null  object \n",
      " 38  priors_count.1           11300 non-null  int64  \n",
      " 39  event                    11300 non-null  int64  \n",
      "dtypes: float64(5), int64(12), object(23)\n",
      "memory usage: 3.5+ MB\n"
     ]
    }
   ],
   "source": [
    "# clean up\n",
    "# drop duplicate rows ignoring the id column\n",
    "crime_df.drop_duplicates(subset=crime_df.columns.difference(['id']), inplace=True)\n",
    "# crime_df.drop_duplicates(inplace=True)\n",
    "\n",
    "crime_df.info()"
   ]
  },
  {
   "cell_type": "code",
   "execution_count": 6,
   "metadata": {
    "cell_id": "bcd49e8ef9af474caa4e7f571a3b7648",
    "deepnote_cell_type": "code",
    "deepnote_to_be_reexecuted": false,
    "execution_millis": 2,
    "execution_start": 1663760907715,
    "source_hash": "a5920fad"
   },
   "outputs": [],
   "source": [
    "# drop duplicate columns - axis{0 or ‘index’, 1 or ‘columns’}, default 0\n",
    "#(axis='columns'), the drop() method removes the specified column.\n",
    "#(axis='index'), the drop() method removes the specified row\n",
    "crime_df.drop(['decile_score.1','priors_count.1'], axis=1, inplace=True)"
   ]
  },
  {
   "cell_type": "code",
   "execution_count": 7,
   "metadata": {},
   "outputs": [
    {
     "name": "stdout",
     "output_type": "stream",
     "text": [
      "<class 'pandas.core.frame.DataFrame'>\n",
      "Index: 11300 entries, 0 to 18314\n",
      "Data columns (total 38 columns):\n",
      " #   Column                   Non-Null Count  Dtype  \n",
      "---  ------                   --------------  -----  \n",
      " 0   id                       6789 non-null   float64\n",
      " 1   name                     11300 non-null  object \n",
      " 2   first                    11300 non-null  object \n",
      " 3   last                     11300 non-null  object \n",
      " 4   sex                      11300 non-null  object \n",
      " 5   dob                      11300 non-null  object \n",
      " 6   age                      11300 non-null  int64  \n",
      " 7   age_cat                  11300 non-null  object \n",
      " 8   race                     11300 non-null  object \n",
      " 9   juv_fel_count            11300 non-null  int64  \n",
      " 10  decile_score             11300 non-null  int64  \n",
      " 11  juv_misd_count           11300 non-null  int64  \n",
      " 12  juv_other_count          11300 non-null  int64  \n",
      " 13  priors_count             11300 non-null  int64  \n",
      " 14  days_b_screening_arrest  10200 non-null  float64\n",
      " 15  c_jail_in                10200 non-null  object \n",
      " 16  c_jail_out               10200 non-null  object \n",
      " 17  c_days_from_compas       10606 non-null  float64\n",
      " 18  c_charge_degree          10606 non-null  object \n",
      " 19  c_charge_desc            10599 non-null  object \n",
      " 20  is_recid                 11300 non-null  int64  \n",
      " 21  r_charge_degree          3772 non-null   object \n",
      " 22  r_days_from_arrest       2558 non-null   float64\n",
      " 23  r_offense_date           3772 non-null   object \n",
      " 24  r_charge_desc            3713 non-null   object \n",
      " 25  r_jail_in                2558 non-null   object \n",
      " 26  violent_recid            0 non-null      float64\n",
      " 27  is_violent_recid         11300 non-null  int64  \n",
      " 28  vr_charge_degree         1118 non-null   object \n",
      " 29  vr_offense_date          1118 non-null   object \n",
      " 30  vr_charge_desc           1118 non-null   object \n",
      " 31  type_of_assessment       11300 non-null  object \n",
      " 32  score_text               11286 non-null  object \n",
      " 33  screening_date           11300 non-null  object \n",
      " 34  v_type_of_assessment     11300 non-null  object \n",
      " 35  v_decile_score           11300 non-null  int64  \n",
      " 36  v_score_text             11295 non-null  object \n",
      " 37  event                    11300 non-null  int64  \n",
      "dtypes: float64(5), int64(10), object(23)\n",
      "memory usage: 3.4+ MB\n"
     ]
    }
   ],
   "source": [
    "crime_df.info()"
   ]
  },
  {
   "cell_type": "code",
   "execution_count": 8,
   "metadata": {
    "cell_id": "ec1745f934a940149618abe1054a842b",
    "deepnote_cell_type": "code",
    "deepnote_to_be_reexecuted": false,
    "execution_millis": 308,
    "execution_start": 1663760907763,
    "source_hash": "50eb5ec6"
   },
   "outputs": [
    {
     "name": "stdout",
     "output_type": "stream",
     "text": [
      "**** id ****\n",
      "count     6789.000000\n",
      "mean      5493.443659\n",
      "std       3174.346943\n",
      "min          1.000000\n",
      "25%       2733.000000\n",
      "50%       5505.000000\n",
      "75%       8234.000000\n",
      "max      10999.000000\n",
      "Name: id, dtype: float64\n",
      "**** name ****\n",
      "count                  11300\n",
      "unique                 10855\n",
      "top       michael cunningham\n",
      "freq                       4\n",
      "Name: name, dtype: object\n",
      "**** first ****\n",
      "count       11300\n",
      "unique       3876\n",
      "top       michael\n",
      "freq          247\n",
      "Name: first, dtype: object\n",
      "**** last ****\n",
      "count        11300\n",
      "unique        5635\n",
      "top       williams\n",
      "freq           142\n",
      "Name: last, dtype: object\n",
      "**** sex ****\n",
      "count     11300\n",
      "unique        2\n",
      "top        Male\n",
      "freq       9014\n",
      "Name: sex, dtype: object\n",
      "**** dob ****\n",
      "count      11300\n",
      "unique      7485\n",
      "top       3/1/86\n",
      "freq           7\n",
      "Name: dob, dtype: object\n",
      "**** age ****\n",
      "count    11300.000000\n",
      "mean        35.001239\n",
      "std         11.986355\n",
      "min         18.000000\n",
      "25%         25.000000\n",
      "50%         32.000000\n",
      "75%         43.000000\n",
      "max         96.000000\n",
      "Name: age, dtype: float64\n",
      "**** age_cat ****\n",
      "count       11300\n",
      "unique          3\n",
      "top       25 - 45\n",
      "freq         6405\n",
      "Name: age_cat, dtype: object\n",
      "**** race ****\n",
      "count                11300\n",
      "unique                   6\n",
      "top       African-American\n",
      "freq                  5641\n",
      "Name: race, dtype: object\n",
      "**** juv_fel_count ****\n",
      "count    11300.000000\n",
      "mean         0.063451\n",
      "std          0.460254\n",
      "min          0.000000\n",
      "25%          0.000000\n",
      "50%          0.000000\n",
      "75%          0.000000\n",
      "max         20.000000\n",
      "Name: juv_fel_count, dtype: float64\n",
      "**** decile_score ****\n",
      "count    11300.000000\n",
      "mean         4.426283\n",
      "std          2.885452\n",
      "min         -1.000000\n",
      "25%          2.000000\n",
      "50%          4.000000\n",
      "75%          7.000000\n",
      "max         10.000000\n",
      "Name: decile_score, dtype: float64\n",
      "**** juv_misd_count ****\n",
      "count    11300.000000\n",
      "mean         0.080619\n",
      "std          0.467508\n",
      "min          0.000000\n",
      "25%          0.000000\n",
      "50%          0.000000\n",
      "75%          0.000000\n",
      "max         13.000000\n",
      "Name: juv_misd_count, dtype: float64\n",
      "**** juv_other_count ****\n",
      "count    11300.000000\n",
      "mean         0.100177\n",
      "std          0.488889\n",
      "min          0.000000\n",
      "25%          0.000000\n",
      "50%          0.000000\n",
      "75%          0.000000\n",
      "max         17.000000\n",
      "Name: juv_other_count, dtype: float64\n",
      "**** priors_count ****\n",
      "count    11300.000000\n",
      "mean         3.153894\n",
      "std          4.729981\n",
      "min          0.000000\n",
      "25%          0.000000\n",
      "50%          1.000000\n",
      "75%          4.000000\n",
      "max         43.000000\n",
      "Name: priors_count, dtype: float64\n",
      "**** days_b_screening_arrest ****\n",
      "count    10200.000000\n",
      "mean        -0.467059\n",
      "std         73.330512\n",
      "min       -597.000000\n",
      "25%         -1.000000\n",
      "50%         -1.000000\n",
      "75%         -1.000000\n",
      "max       1057.000000\n",
      "Name: days_b_screening_arrest, dtype: float64\n",
      "**** c_jail_in ****\n",
      "count             10200\n",
      "unique             9806\n",
      "top       12/11/13 1:08\n",
      "freq                  3\n",
      "Name: c_jail_in, dtype: object\n",
      "**** c_jail_out ****\n",
      "count               10200\n",
      "unique               8714\n",
      "top       30/04/2013 7:29\n",
      "freq                    8\n",
      "Name: c_jail_out, dtype: object\n",
      "**** c_days_from_compas ****\n",
      "count    10606.000000\n",
      "mean        63.403451\n",
      "std        344.157034\n",
      "min          0.000000\n",
      "25%          1.000000\n",
      "50%          1.000000\n",
      "75%          2.000000\n",
      "max       9485.000000\n",
      "Name: c_days_from_compas, dtype: float64\n",
      "**** c_charge_degree ****\n",
      "count     10606\n",
      "unique       14\n",
      "top        (F3)\n",
      "freq       5723\n",
      "Name: c_charge_degree, dtype: object\n",
      "**** c_charge_desc ****\n",
      "count                     10599\n",
      "unique                      513\n",
      "top       arrest case no charge\n",
      "freq                       1786\n",
      "Name: c_charge_desc, dtype: object\n",
      "**** is_recid ****\n",
      "count    11300.000000\n",
      "mean         0.274513\n",
      "std          0.563709\n",
      "min         -1.000000\n",
      "25%          0.000000\n",
      "50%          0.000000\n",
      "75%          1.000000\n",
      "max          1.000000\n",
      "Name: is_recid, dtype: float64\n",
      "**** r_charge_degree ****\n",
      "count     3772\n",
      "unique      10\n",
      "top       (M1)\n",
      "freq      1329\n",
      "Name: r_charge_degree, dtype: object\n",
      "**** r_days_from_arrest ****\n",
      "count    2558.000000\n",
      "mean       19.397576\n",
      "std        72.882124\n",
      "min        -1.000000\n",
      "25%         0.000000\n",
      "50%         0.000000\n",
      "75%         1.000000\n",
      "max       993.000000\n",
      "Name: r_days_from_arrest, dtype: float64\n",
      "**** r_offense_date ****\n",
      "count        3772\n",
      "unique       1075\n",
      "top       8/12/14\n",
      "freq           13\n",
      "Name: r_offense_date, dtype: object\n",
      "**** r_charge_desc ****\n",
      "count                                  3713\n",
      "unique                                  341\n",
      "top       Possess Cannabis/20 Grams Or Less\n",
      "freq                                    274\n",
      "Name: r_charge_desc, dtype: object\n",
      "**** r_jail_in ****\n",
      "count        2558\n",
      "unique        972\n",
      "top       10/7/14\n",
      "freq           10\n",
      "Name: r_jail_in, dtype: object\n",
      "**** violent_recid ****\n",
      "count    0.0\n",
      "mean     NaN\n",
      "std      NaN\n",
      "min      NaN\n",
      "25%      NaN\n",
      "50%      NaN\n",
      "75%      NaN\n",
      "max      NaN\n",
      "Name: violent_recid, dtype: float64\n",
      "**** is_violent_recid ****\n",
      "count    11300.000000\n",
      "mean         0.098938\n",
      "std          0.298592\n",
      "min          0.000000\n",
      "25%          0.000000\n",
      "50%          0.000000\n",
      "75%          0.000000\n",
      "max          1.000000\n",
      "Name: is_violent_recid, dtype: float64\n",
      "**** vr_charge_degree ****\n",
      "count     1118\n",
      "unique       9\n",
      "top       (M1)\n",
      "freq       464\n",
      "Name: vr_charge_degree, dtype: object\n",
      "**** vr_offense_date ****\n",
      "count           1118\n",
      "unique           570\n",
      "top       15/08/2015\n",
      "freq               9\n",
      "Name: vr_offense_date, dtype: object\n",
      "**** vr_charge_desc ****\n",
      "count        1118\n",
      "unique         83\n",
      "top       Battery\n",
      "freq          443\n",
      "Name: vr_charge_desc, dtype: object\n",
      "**** type_of_assessment ****\n",
      "count                  11300\n",
      "unique                     1\n",
      "top       Risk of Recidivism\n",
      "freq                   11300\n",
      "Name: type_of_assessment, dtype: object\n",
      "**** score_text ****\n",
      "count     11286\n",
      "unique        3\n",
      "top         Low\n",
      "freq       6258\n",
      "Name: score_text, dtype: object\n",
      "**** screening_date ****\n",
      "count          11300\n",
      "unique           703\n",
      "top       20/04/2013\n",
      "freq              38\n",
      "Name: screening_date, dtype: object\n",
      "**** v_type_of_assessment ****\n",
      "count                11300\n",
      "unique                   1\n",
      "top       Risk of Violence\n",
      "freq                 11300\n",
      "Name: v_type_of_assessment, dtype: object\n",
      "**** v_decile_score ****\n",
      "count    11300.000000\n",
      "mean         3.622920\n",
      "std          2.518755\n",
      "min         -1.000000\n",
      "25%          1.000000\n",
      "50%          3.000000\n",
      "75%          5.000000\n",
      "max         10.000000\n",
      "Name: v_decile_score, dtype: float64\n",
      "**** v_score_text ****\n",
      "count     11295\n",
      "unique        3\n",
      "top         Low\n",
      "freq       7571\n",
      "Name: v_score_text, dtype: object\n",
      "**** event ****\n",
      "count    11300.000000\n",
      "mean         0.072478\n",
      "std          0.259289\n",
      "min          0.000000\n",
      "25%          0.000000\n",
      "50%          0.000000\n",
      "75%          0.000000\n",
      "max          1.000000\n",
      "Name: event, dtype: float64\n"
     ]
    }
   ],
   "source": [
    "# explore the dataset\n",
    "columns = crime_df.columns\n",
    "for col in columns:\n",
    "    print('****',col,'****')\n",
    "    print(crime_df[col].describe())"
   ]
  },
  {
   "cell_type": "code",
   "execution_count": 9,
   "metadata": {
    "cell_id": "ed75385223594c6795394f84ea5f6d66",
    "deepnote_cell_type": "code",
    "deepnote_to_be_reexecuted": false,
    "execution_millis": 0,
    "execution_start": 1663760907841,
    "source_hash": "3de38cf0"
   },
   "outputs": [],
   "source": [
    "# violent_recid has no values and type_of_assessment and v_type_of_assessment only has one value which is not very useful \n",
    "crime_df.drop(['violent_recid','type_of_assessment','v_type_of_assessment'], axis=1, inplace=True)"
   ]
  },
  {
   "cell_type": "code",
   "execution_count": 10,
   "metadata": {
    "cell_id": "9da102f03d9242279d2074c0924dd152",
    "deepnote_cell_type": "code",
    "deepnote_to_be_reexecuted": false,
    "execution_millis": 231,
    "execution_start": 1663760907841,
    "source_hash": "811c83b8"
   },
   "outputs": [
    {
     "data": {
      "text/plain": [
       "(11300, 12)"
      ]
     },
     "execution_count": 10,
     "metadata": {},
     "output_type": "execute_result"
    }
   ],
   "source": [
    "# select columns of interest \n",
    "crime_df = crime_df[['age', 'c_charge_degree', 'race', 'age_cat', 'score_text', 'sex', 'priors_count', \n",
    "                    'days_b_screening_arrest', 'decile_score', 'is_recid', 'c_jail_in', 'c_jail_out']]\n",
    "crime_df.shape"
   ]
  },
  {
   "cell_type": "code",
   "execution_count": 11,
   "metadata": {
    "cell_id": "d70c9305178a490db184b58422b81caa",
    "deepnote_cell_type": "code",
    "deepnote_to_be_reexecuted": false,
    "execution_millis": 230,
    "execution_start": 1663760907842,
    "source_hash": "75f6119f"
   },
   "outputs": [
    {
     "name": "stdout",
     "output_type": "stream",
     "text": [
      "**** age ****\n",
      "count    11300.000000\n",
      "mean        35.001239\n",
      "std         11.986355\n",
      "min         18.000000\n",
      "25%         25.000000\n",
      "50%         32.000000\n",
      "75%         43.000000\n",
      "max         96.000000\n",
      "Name: age, dtype: float64\n",
      "**** c_charge_degree ****\n",
      "count     10606\n",
      "unique       14\n",
      "top        (F3)\n",
      "freq       5723\n",
      "Name: c_charge_degree, dtype: object\n",
      "**** race ****\n",
      "count                11300\n",
      "unique                   6\n",
      "top       African-American\n",
      "freq                  5641\n",
      "Name: race, dtype: object\n",
      "**** age_cat ****\n",
      "count       11300\n",
      "unique          3\n",
      "top       25 - 45\n",
      "freq         6405\n",
      "Name: age_cat, dtype: object\n",
      "**** score_text ****\n",
      "count     11286\n",
      "unique        3\n",
      "top         Low\n",
      "freq       6258\n",
      "Name: score_text, dtype: object\n",
      "**** sex ****\n",
      "count     11300\n",
      "unique        2\n",
      "top        Male\n",
      "freq       9014\n",
      "Name: sex, dtype: object\n",
      "**** priors_count ****\n",
      "count    11300.000000\n",
      "mean         3.153894\n",
      "std          4.729981\n",
      "min          0.000000\n",
      "25%          0.000000\n",
      "50%          1.000000\n",
      "75%          4.000000\n",
      "max         43.000000\n",
      "Name: priors_count, dtype: float64\n",
      "**** days_b_screening_arrest ****\n",
      "count    10200.000000\n",
      "mean        -0.467059\n",
      "std         73.330512\n",
      "min       -597.000000\n",
      "25%         -1.000000\n",
      "50%         -1.000000\n",
      "75%         -1.000000\n",
      "max       1057.000000\n",
      "Name: days_b_screening_arrest, dtype: float64\n",
      "**** decile_score ****\n",
      "count    11300.000000\n",
      "mean         4.426283\n",
      "std          2.885452\n",
      "min         -1.000000\n",
      "25%          2.000000\n",
      "50%          4.000000\n",
      "75%          7.000000\n",
      "max         10.000000\n",
      "Name: decile_score, dtype: float64\n",
      "**** is_recid ****\n",
      "count    11300.000000\n",
      "mean         0.274513\n",
      "std          0.563709\n",
      "min         -1.000000\n",
      "25%          0.000000\n",
      "50%          0.000000\n",
      "75%          1.000000\n",
      "max          1.000000\n",
      "Name: is_recid, dtype: float64\n",
      "**** c_jail_in ****\n",
      "count             10200\n",
      "unique             9806\n",
      "top       12/11/13 1:08\n",
      "freq                  3\n",
      "Name: c_jail_in, dtype: object\n",
      "**** c_jail_out ****\n",
      "count               10200\n",
      "unique               8714\n",
      "top       30/04/2013 7:29\n",
      "freq                    8\n",
      "Name: c_jail_out, dtype: object\n"
     ]
    }
   ],
   "source": [
    "# summary statistics of columns of interest\n",
    "columns = crime_df.columns\n",
    "for col in columns:\n",
    "    print('****',col,'****')\n",
    "    print(crime_df[col].describe())"
   ]
  },
  {
   "cell_type": "code",
   "execution_count": 12,
   "metadata": {
    "cell_id": "2918aa0e872c4d94ae44ca407023f00d",
    "deepnote_cell_type": "code",
    "deepnote_to_be_reexecuted": false,
    "execution_millis": 200,
    "execution_start": 1663760907873,
    "source_hash": "13c2fccc"
   },
   "outputs": [
    {
     "data": {
      "text/html": [
       "<div>\n",
       "<style scoped>\n",
       "    .dataframe tbody tr th:only-of-type {\n",
       "        vertical-align: middle;\n",
       "    }\n",
       "\n",
       "    .dataframe tbody tr th {\n",
       "        vertical-align: top;\n",
       "    }\n",
       "\n",
       "    .dataframe thead th {\n",
       "        text-align: right;\n",
       "    }\n",
       "</style>\n",
       "<table border=\"1\" class=\"dataframe\">\n",
       "  <thead>\n",
       "    <tr style=\"text-align: right;\">\n",
       "      <th></th>\n",
       "      <th>age</th>\n",
       "      <th>c_charge_degree</th>\n",
       "      <th>race</th>\n",
       "      <th>age_cat</th>\n",
       "      <th>score_text</th>\n",
       "      <th>sex</th>\n",
       "      <th>priors_count</th>\n",
       "      <th>days_b_screening_arrest</th>\n",
       "      <th>decile_score</th>\n",
       "      <th>is_recid</th>\n",
       "      <th>c_jail_in</th>\n",
       "      <th>c_jail_out</th>\n",
       "    </tr>\n",
       "  </thead>\n",
       "  <tbody>\n",
       "    <tr>\n",
       "      <th>0</th>\n",
       "      <td>69</td>\n",
       "      <td>(F3)</td>\n",
       "      <td>Other</td>\n",
       "      <td>Greater than 45</td>\n",
       "      <td>Low</td>\n",
       "      <td>Male</td>\n",
       "      <td>0</td>\n",
       "      <td>-1.0</td>\n",
       "      <td>1</td>\n",
       "      <td>0</td>\n",
       "      <td>13/08/2013 6:03</td>\n",
       "      <td>14/08/2013 5:41</td>\n",
       "    </tr>\n",
       "    <tr>\n",
       "      <th>2</th>\n",
       "      <td>31</td>\n",
       "      <td>NaN</td>\n",
       "      <td>Caucasian</td>\n",
       "      <td>25 - 45</td>\n",
       "      <td>Medium</td>\n",
       "      <td>Male</td>\n",
       "      <td>0</td>\n",
       "      <td>NaN</td>\n",
       "      <td>5</td>\n",
       "      <td>-1</td>\n",
       "      <td>NaN</td>\n",
       "      <td>NaN</td>\n",
       "    </tr>\n",
       "    <tr>\n",
       "      <th>3</th>\n",
       "      <td>34</td>\n",
       "      <td>(F3)</td>\n",
       "      <td>African-American</td>\n",
       "      <td>25 - 45</td>\n",
       "      <td>Low</td>\n",
       "      <td>Male</td>\n",
       "      <td>0</td>\n",
       "      <td>-1.0</td>\n",
       "      <td>3</td>\n",
       "      <td>1</td>\n",
       "      <td>26/01/2013 3:45</td>\n",
       "      <td>5/2/13 5:36</td>\n",
       "    </tr>\n",
       "    <tr>\n",
       "      <th>4</th>\n",
       "      <td>24</td>\n",
       "      <td>(F3)</td>\n",
       "      <td>African-American</td>\n",
       "      <td>Less than 25</td>\n",
       "      <td>Low</td>\n",
       "      <td>Male</td>\n",
       "      <td>4</td>\n",
       "      <td>-1.0</td>\n",
       "      <td>4</td>\n",
       "      <td>1</td>\n",
       "      <td>13/04/2013 4:58</td>\n",
       "      <td>14/04/2013 7:02</td>\n",
       "    </tr>\n",
       "    <tr>\n",
       "      <th>9</th>\n",
       "      <td>23</td>\n",
       "      <td>(F3)</td>\n",
       "      <td>African-American</td>\n",
       "      <td>Less than 25</td>\n",
       "      <td>High</td>\n",
       "      <td>Male</td>\n",
       "      <td>1</td>\n",
       "      <td>NaN</td>\n",
       "      <td>8</td>\n",
       "      <td>0</td>\n",
       "      <td>NaN</td>\n",
       "      <td>NaN</td>\n",
       "    </tr>\n",
       "    <tr>\n",
       "      <th>...</th>\n",
       "      <td>...</td>\n",
       "      <td>...</td>\n",
       "      <td>...</td>\n",
       "      <td>...</td>\n",
       "      <td>...</td>\n",
       "      <td>...</td>\n",
       "      <td>...</td>\n",
       "      <td>...</td>\n",
       "      <td>...</td>\n",
       "      <td>...</td>\n",
       "      <td>...</td>\n",
       "      <td>...</td>\n",
       "    </tr>\n",
       "    <tr>\n",
       "      <th>18310</th>\n",
       "      <td>23</td>\n",
       "      <td>(F3)</td>\n",
       "      <td>African-American</td>\n",
       "      <td>Less than 25</td>\n",
       "      <td>Low</td>\n",
       "      <td>Male</td>\n",
       "      <td>0</td>\n",
       "      <td>-1.0</td>\n",
       "      <td>3</td>\n",
       "      <td>0</td>\n",
       "      <td>31/01/2014 7:13</td>\n",
       "      <td>2/2/14 4:03</td>\n",
       "    </tr>\n",
       "    <tr>\n",
       "      <th>18311</th>\n",
       "      <td>31</td>\n",
       "      <td>(M1)</td>\n",
       "      <td>African-American</td>\n",
       "      <td>25 - 45</td>\n",
       "      <td>Medium</td>\n",
       "      <td>Female</td>\n",
       "      <td>5</td>\n",
       "      <td>-1.0</td>\n",
       "      <td>6</td>\n",
       "      <td>0</td>\n",
       "      <td>28/12/2014 10:14</td>\n",
       "      <td>7/1/15 11:42</td>\n",
       "    </tr>\n",
       "    <tr>\n",
       "      <th>18312</th>\n",
       "      <td>57</td>\n",
       "      <td>(F2)</td>\n",
       "      <td>Other</td>\n",
       "      <td>Greater than 45</td>\n",
       "      <td>Low</td>\n",
       "      <td>Male</td>\n",
       "      <td>0</td>\n",
       "      <td>-1.0</td>\n",
       "      <td>1</td>\n",
       "      <td>0</td>\n",
       "      <td>13/01/2014 5:48</td>\n",
       "      <td>14/01/2014 7:49</td>\n",
       "    </tr>\n",
       "    <tr>\n",
       "      <th>18313</th>\n",
       "      <td>33</td>\n",
       "      <td>(M1)</td>\n",
       "      <td>African-American</td>\n",
       "      <td>25 - 45</td>\n",
       "      <td>Low</td>\n",
       "      <td>Female</td>\n",
       "      <td>3</td>\n",
       "      <td>-1.0</td>\n",
       "      <td>2</td>\n",
       "      <td>0</td>\n",
       "      <td>8/3/14 8:06</td>\n",
       "      <td>9/3/14 12:18</td>\n",
       "    </tr>\n",
       "    <tr>\n",
       "      <th>18314</th>\n",
       "      <td>23</td>\n",
       "      <td>(F3)</td>\n",
       "      <td>Hispanic</td>\n",
       "      <td>Less than 25</td>\n",
       "      <td>Low</td>\n",
       "      <td>Female</td>\n",
       "      <td>2</td>\n",
       "      <td>-2.0</td>\n",
       "      <td>4</td>\n",
       "      <td>1</td>\n",
       "      <td>28/06/2014 12:16</td>\n",
       "      <td>30/06/2014 11:19</td>\n",
       "    </tr>\n",
       "  </tbody>\n",
       "</table>\n",
       "<p>11300 rows × 12 columns</p>\n",
       "</div>"
      ],
      "text/plain": [
       "       age c_charge_degree              race          age_cat score_text  \\\n",
       "0       69            (F3)             Other  Greater than 45        Low   \n",
       "2       31             NaN         Caucasian          25 - 45     Medium   \n",
       "3       34            (F3)  African-American          25 - 45        Low   \n",
       "4       24            (F3)  African-American     Less than 25        Low   \n",
       "9       23            (F3)  African-American     Less than 25       High   \n",
       "...    ...             ...               ...              ...        ...   \n",
       "18310   23            (F3)  African-American     Less than 25        Low   \n",
       "18311   31            (M1)  African-American          25 - 45     Medium   \n",
       "18312   57            (F2)             Other  Greater than 45        Low   \n",
       "18313   33            (M1)  African-American          25 - 45        Low   \n",
       "18314   23            (F3)          Hispanic     Less than 25        Low   \n",
       "\n",
       "          sex  priors_count  days_b_screening_arrest  decile_score  is_recid  \\\n",
       "0        Male             0                     -1.0             1         0   \n",
       "2        Male             0                      NaN             5        -1   \n",
       "3        Male             0                     -1.0             3         1   \n",
       "4        Male             4                     -1.0             4         1   \n",
       "9        Male             1                      NaN             8         0   \n",
       "...       ...           ...                      ...           ...       ...   \n",
       "18310    Male             0                     -1.0             3         0   \n",
       "18311  Female             5                     -1.0             6         0   \n",
       "18312    Male             0                     -1.0             1         0   \n",
       "18313  Female             3                     -1.0             2         0   \n",
       "18314  Female             2                     -2.0             4         1   \n",
       "\n",
       "              c_jail_in        c_jail_out  \n",
       "0       13/08/2013 6:03   14/08/2013 5:41  \n",
       "2                   NaN               NaN  \n",
       "3       26/01/2013 3:45       5/2/13 5:36  \n",
       "4       13/04/2013 4:58   14/04/2013 7:02  \n",
       "9                   NaN               NaN  \n",
       "...                 ...               ...  \n",
       "18310   31/01/2014 7:13       2/2/14 4:03  \n",
       "18311  28/12/2014 10:14      7/1/15 11:42  \n",
       "18312   13/01/2014 5:48   14/01/2014 7:49  \n",
       "18313       8/3/14 8:06      9/3/14 12:18  \n",
       "18314  28/06/2014 12:16  30/06/2014 11:19  \n",
       "\n",
       "[11300 rows x 12 columns]"
      ]
     },
     "execution_count": 12,
     "metadata": {},
     "output_type": "execute_result"
    }
   ],
   "source": [
    "crime_df"
   ]
  },
  {
   "cell_type": "markdown",
   "metadata": {
    "cell_id": "35e49cf12c914ac6bfcdac38bb425a74",
    "deepnote_cell_type": "markdown"
   },
   "source": [
    "The ProPublica analysis filtered the underlying data from Broward county to include only those rows representing people who had either recidivated in two years, or had at least two years outside of a correctional facility. They also dropped records if the charge date was not within 30 days from when the person was arrested. Ordinary traffic offenses were also removed (those with a c_charge_degree of 'O') since they do not result in any jail time as well as records that were missing decile_score and decile_text."
   ]
  },
  {
   "cell_type": "code",
   "execution_count": 13,
   "metadata": {
    "cell_id": "4dfcbb9881b6446ba387d55ad1f6d3fe",
    "deepnote_cell_type": "code",
    "deepnote_to_be_reexecuted": false,
    "execution_millis": 133,
    "execution_start": 1663760907940,
    "source_hash": "9596b5d8"
   },
   "outputs": [
    {
     "name": "stdout",
     "output_type": "stream",
     "text": [
      "<class 'pandas.core.frame.DataFrame'>\n",
      "Index: 9036 entries, 0 to 18314\n",
      "Data columns (total 12 columns):\n",
      " #   Column                   Non-Null Count  Dtype  \n",
      "---  ------                   --------------  -----  \n",
      " 0   age                      9036 non-null   int64  \n",
      " 1   c_charge_degree          9036 non-null   object \n",
      " 2   race                     9036 non-null   object \n",
      " 3   age_cat                  9036 non-null   object \n",
      " 4   score_text               9036 non-null   object \n",
      " 5   sex                      9036 non-null   object \n",
      " 6   priors_count             9036 non-null   int64  \n",
      " 7   days_b_screening_arrest  9036 non-null   float64\n",
      " 8   decile_score             9036 non-null   int64  \n",
      " 9   is_recid                 9036 non-null   int64  \n",
      " 10  c_jail_in                9036 non-null   object \n",
      " 11  c_jail_out               9036 non-null   object \n",
      "dtypes: float64(1), int64(4), object(7)\n",
      "memory usage: 917.7+ KB\n"
     ]
    }
   ],
   "source": [
    "# filter records\n",
    "crime_df = crime_df[(crime_df['days_b_screening_arrest'] <= 30) & (crime_df['days_b_screening_arrest'] >= -30) & (crime_df['is_recid'] != -1) & (crime_df['decile_score'] != -1)&(crime_df['c_charge_degree'] != \"O\") & (crime_df['score_text'] != 'N/A')]\n",
    "crime_df.info()"
   ]
  },
  {
   "cell_type": "code",
   "execution_count": 14,
   "metadata": {
    "cell_id": "8ce75a91e6f94cd8b23d1f82a4615d84",
    "deepnote_cell_type": "code",
    "deepnote_to_be_reexecuted": false,
    "execution_millis": 79,
    "execution_start": 1663760907995,
    "source_hash": "bfa07690"
   },
   "outputs": [
    {
     "data": {
      "text/plain": [
       "race\n",
       "Native American       24\n",
       "Asian                 47\n",
       "Other                536\n",
       "Hispanic             774\n",
       "Caucasian           3104\n",
       "African-American    4551\n",
       "dtype: int64"
      ]
     },
     "execution_count": 14,
     "metadata": {},
     "output_type": "execute_result"
    }
   ],
   "source": [
    "# group by race\n",
    "crime_df.groupby(\"race\").size().sort_values()"
   ]
  },
  {
   "cell_type": "code",
   "execution_count": 15,
   "metadata": {
    "cell_id": "3665946e26994ae5b8616f39559f21c0",
    "deepnote_cell_type": "code",
    "deepnote_to_be_reexecuted": false,
    "execution_millis": 380,
    "execution_start": 1663760907996,
    "source_hash": "7a899342"
   },
   "outputs": [
    {
     "data": {
      "text/plain": [
       "<Axes: xlabel='sex'>"
      ]
     },
     "execution_count": 15,
     "metadata": {},
     "output_type": "execute_result"
    },
    {
     "data": {
      "image/png": "[encoded data removed]",
      "text/plain": [
       "<Figure size 1500x500 with 2 Axes>"
      ]
     },
     "metadata": {},
     "output_type": "display_data"
    }
   ],
   "source": [
    "# let's visualize race and sex distributions with a histogram\n",
    "fig = plt.figure()\n",
    "\n",
    "# Divide the figure into a 1x2 grid, and give me the first section\n",
    "ax1 = fig.add_subplot(121)\n",
    "\n",
    "# Divide the figure into a 1x2 grid, and give me the second section\n",
    "ax2 = fig.add_subplot(122)\n",
    "\n",
    "s=crime_df.race.value_counts(normalize=True).mul(100) # mul(100) is == *100\n",
    "s.index.name,s.name='race','percentage' #setting the name of index and series\n",
    "#series.to_frame() returns a dataframe\n",
    "s.to_frame().plot(kind='bar', ax=ax1, ylim=[0,100])\n",
    "\n",
    "\n",
    "s=crime_df.sex.value_counts(normalize=True).mul(100) # mul(100) is == *100\n",
    "s.index.name,s.name='sex','percentage' #setting the name of index and series\n",
    "#series.to_frame() returns a dataframe\n",
    "s.to_frame().plot(kind='bar', ax = ax2, ylim=[0,100], width=0.15)\n"
   ]
  },
  {
   "cell_type": "markdown",
   "metadata": {
    "cell_id": "8e34fc59500b4f40b5d76a8905519d38",
    "deepnote_cell_type": "markdown"
   },
   "source": [
    "Judges are often presented with two sets of scores from the Compas system -- one that classifies people into High, Medium and Low risk, and a corresponding decile score. Let's plot those to get a better idea of what the data looks like\n"
   ]
  },
  {
   "cell_type": "code",
   "execution_count": 16,
   "metadata": {
    "cell_id": "07c39d172b164db9940e51022db49590",
    "deepnote_cell_type": "code",
    "deepnote_to_be_reexecuted": false,
    "execution_millis": 253,
    "execution_start": 1663760908327,
    "source_hash": "280a9ae1"
   },
   "outputs": [
    {
     "data": {
      "text/plain": [
       "<Axes: title={'center': 'African-American'}, xlabel='decile_score'>"
      ]
     },
     "execution_count": 16,
     "metadata": {},
     "output_type": "execute_result"
    },
    {
     "data": {
      "image/png": "[encoded data removed]",
      "text/plain": [
       "<Figure size 1500x500 with 2 Axes>"
      ]
     },
     "metadata": {},
     "output_type": "display_data"
    }
   ],
   "source": [
    "fig = plt.figure()\n",
    "\n",
    "# Divide the figure into a 1x2 grid, and get the first section\n",
    "ax1 = fig.add_subplot(121)\n",
    "\n",
    "# Divide the figure into a 1x2 grid, and get the second section\n",
    "ax2 = fig.add_subplot(122)\n",
    "\n",
    "crime_df[crime_df['race']=='Caucasian'].groupby('decile_score')['race'].count().plot(kind='bar', ax=ax1, title=\"Caucasian\")\n",
    "crime_df[crime_df['race']=='African-American'].groupby('decile_score')['race'].count().plot(kind='bar', ax=ax2, title=\"African-American\")"
   ]
  },
  {
   "cell_type": "code",
   "execution_count": 17,
   "metadata": {
    "cell_id": "c01816492f744d78b9cec64bd3c3f346",
    "deepnote_cell_type": "code",
    "deepnote_to_be_reexecuted": false,
    "execution_millis": 8,
    "execution_start": 1663760908579,
    "source_hash": "532dc50a"
   },
   "outputs": [
    {
     "data": {
      "text/plain": [
       "<bound method NDFrame.describe of decile_score\n",
       "1     542\n",
       "2     496\n",
       "3     442\n",
       "4     464\n",
       "5     430\n",
       "6     457\n",
       "7     487\n",
       "8     443\n",
       "9     434\n",
       "10    356\n",
       "Name: race, dtype: int64>"
      ]
     },
     "execution_count": 17,
     "metadata": {},
     "output_type": "execute_result"
    }
   ],
   "source": [
    "# expolore the decile score distribution for a certain race \n",
    "crime_df[crime_df['race']=='African-American'].groupby('decile_score')['race'].count().describe"
   ]
  },
  {
   "cell_type": "code",
   "execution_count": 18,
   "metadata": {
    "cell_id": "497618a4af604d02bdf7f199ae61a3f7",
    "deepnote_cell_type": "code",
    "deepnote_to_be_reexecuted": false,
    "execution_millis": 16,
    "execution_start": 1663760908629,
    "source_hash": "f73a1eed"
   },
   "outputs": [
    {
     "data": {
      "text/plain": [
       "<bound method NDFrame.describe of decile_score\n",
       "1     917\n",
       "2     474\n",
       "3     362\n",
       "4     353\n",
       "5     279\n",
       "6     224\n",
       "7     163\n",
       "8     143\n",
       "9     120\n",
       "10     69\n",
       "Name: race, dtype: int64>"
      ]
     },
     "execution_count": 18,
     "metadata": {},
     "output_type": "execute_result"
    }
   ],
   "source": [
    "crime_df[crime_df['race']=='Caucasian'].groupby('decile_score')['race'].count().describe"
   ]
  },
  {
   "cell_type": "code",
   "execution_count": 19,
   "metadata": {
    "cell_id": "7d557a3e29fd45fc9e9cc8ec109ba710",
    "deepnote_cell_type": "code",
    "deepnote_to_be_reexecuted": false,
    "execution_millis": 284,
    "execution_start": 1663760908630,
    "source_hash": "eb5640d3"
   },
   "outputs": [
    {
     "data": {
      "text/plain": [
       "<Axes: title={'center': \"Black Defendant's Decile Scores\"}, xlabel='Decile'>"
      ]
     },
     "execution_count": 19,
     "metadata": {},
     "output_type": "execute_result"
    },
    {
     "data": {
      "image/png": "[encoded data removed]",
      "text/plain": [
       "<Figure size 1500x500 with 2 Axes>"
      ]
     },
     "metadata": {},
     "output_type": "display_data"
    }
   ],
   "source": [
    "# plot the decile score for Caucasian and Black defendants\n",
    "fig = plt.figure()\n",
    "\n",
    "# Divide the figure into a 1x2 grid, and give me the first section\n",
    "ax1 = fig.add_subplot(121)\n",
    "\n",
    "# Divide the figure into a 1x2 grid, and give me the second section\n",
    "ax2 = fig.add_subplot(122)\n",
    "\n",
    "\n",
    "s=crime_df[crime_df['race']=='Caucasian'].score_text.value_counts(normalize=True).mul(100) # mul(100) is == *100\n",
    "s.index.name,s.name='Decile','percentage' #setting the name of index and series\n",
    "#series.to_frame() returns a dataframe\n",
    "s.to_frame().plot(kind='bar', ax=ax1, ylim=[0,100], title=\"White Defendant's Decile Scores\")\n",
    "\n",
    "s=crime_df[crime_df['race']=='African-American'].score_text.value_counts(normalize=True).mul(100) # mul(100) is == *100\n",
    "s.index.name,s.name='Decile','percentage' #setting the name of index and series\n",
    "#series.to_frame() returns a dataframe\n",
    "s.to_frame().plot(kind='bar', ax=ax2, ylim=[0,100], title=\"Black Defendant's Decile Scores\")"
   ]
  },
  {
   "cell_type": "markdown",
   "metadata": {
    "cell_id": "b67e2a710069437ba1e71717001d4f35",
    "deepnote_cell_type": "markdown"
   },
   "source": [
    "# Split the data into training and test sets"
   ]
  },
  {
   "cell_type": "code",
   "execution_count": 20,
   "metadata": {
    "cell_id": "61d178229bab4c26b6a6d529465332fd",
    "deepnote_cell_type": "code",
    "deepnote_to_be_reexecuted": false,
    "execution_millis": 6,
    "execution_start": 1663760908916,
    "source_hash": "f8a872aa"
   },
   "outputs": [],
   "source": [
    "import pandas as pd\n",
    "from sklearn.model_selection import train_test_split\n",
    "\n",
    "# Documentation for train_test_split function:\n",
    "# https://scikit-learn.org/stable/modules/generated/sklearn.model_selection.train_test_split.html"
   ]
  },
  {
   "cell_type": "code",
   "execution_count": 21,
   "metadata": {
    "cell_id": "27b07017c60646b2afbb0b048a58dac6",
    "deepnote_cell_type": "code",
    "deepnote_to_be_reexecuted": false,
    "execution_millis": 2,
    "execution_start": 1663760908922,
    "source_hash": "f5e946c3"
   },
   "outputs": [],
   "source": [
    "#split the data into 75% for training and 25% for testing, set random_state to an integer number for reproducibility\n",
    "crime_train1, crime_test1 = train_test_split(crime_df, test_size =0.25, random_state = 7)"
   ]
  },
  {
   "cell_type": "code",
   "execution_count": 22,
   "metadata": {
    "cell_id": "9d5129c3ba5f41b6a165bfba1bcb19ed",
    "deepnote_cell_type": "code",
    "deepnote_to_be_reexecuted": false,
    "execution_millis": 1,
    "execution_start": 1663760915479,
    "source_hash": "ccbed92b"
   },
   "outputs": [
    {
     "name": "stdout",
     "output_type": "stream",
     "text": [
      "(2259, 12)\n",
      "(6777, 12)\n"
     ]
    }
   ],
   "source": [
    "# check size of partitions\n",
    "print(crime_test1.shape)\n",
    "print(crime_train1.shape)"
   ]
  },
  {
   "cell_type": "code",
   "execution_count": 23,
   "metadata": {
    "cell_id": "fc269f5293594ca7b4cb3e30eb48920e",
    "deepnote_cell_type": "code",
    "deepnote_to_be_reexecuted": false,
    "execution_millis": 3,
    "execution_start": 1663760918400,
    "source_hash": "46888892"
   },
   "outputs": [
    {
     "name": "stdout",
     "output_type": "stream",
     "text": [
      "6777\n"
     ]
    },
    {
     "data": {
      "text/plain": [
       "race\n",
       "African-American    3407\n",
       "Caucasian           2328\n",
       "Hispanic             591\n",
       "Other                399\n",
       "Asian                 37\n",
       "Native American       15\n",
       "Name: count, dtype: int64"
      ]
     },
     "execution_count": 23,
     "metadata": {},
     "output_type": "execute_result"
    }
   ],
   "source": [
    "# balance the dataset\n",
    "print(crime_train1['race'].count())\n",
    "crime_train1['race'].value_counts()"
   ]
  },
  {
   "cell_type": "markdown",
   "metadata": {
    "cell_id": "ef924ef072a94205a12471e9aa1e60a8",
    "deepnote_cell_type": "markdown",
    "tags": []
   },
   "source": [
    "Find the required number of resampled records.\n",
    "For example, if we were interested in increasing the representation of hispanics to 30% \n",
    "        \n",
    "        x = (p(records) - rare) / (1 - p) \n",
    "\n",
    "Where x is the required number of resampled records, p is the desired proportion of\n",
    "rare values in the balanced data set, records is the number of records in the unbalanced\n",
    "data set, and rare represents the current number of rare target values.\n",
    "\n",
    "Plug in the numbers from our training set we woulld get\n",
    "\n",
    "x = (0.3(6777) - 591) / (1 - 0.3)\n",
    "x = 2060\n",
    "\n",
    "Using these numbers we can resample our training set."
   ]
  },
  {
   "cell_type": "markdown",
   "metadata": {
    "cell_id": "c2a3c3b58bcb4fc68eefc17d8fd8e525",
    "deepnote_cell_type": "markdown",
    "tags": []
   },
   "source": []
  },
  {
   "cell_type": "code",
   "execution_count": 24,
   "metadata": {
    "cell_id": "d16b508cd02543e9917066590a1dc0b3",
    "deepnote_cell_type": "code",
    "deepnote_to_be_reexecuted": false,
    "execution_millis": 4,
    "execution_start": 1663760929317,
    "source_hash": "ce88072b"
   },
   "outputs": [],
   "source": [
    "# find all the records that match the criteria for the resampling\n",
    "to_resample = crime_train1.loc[crime_train1['race'] ==\"Hispanic\"]"
   ]
  },
  {
   "cell_type": "code",
   "execution_count": 25,
   "metadata": {
    "cell_id": "7b42a7922b284e5796e69c7141bbe732",
    "deepnote_cell_type": "code",
    "deepnote_to_be_reexecuted": false,
    "execution_millis": 3,
    "execution_start": 1663760936260,
    "source_hash": "4fb1ca48"
   },
   "outputs": [
    {
     "name": "stdout",
     "output_type": "stream",
     "text": [
      "<class 'pandas.core.frame.DataFrame'>\n",
      "Index: 2060 entries, 3964 to 3996\n",
      "Data columns (total 12 columns):\n",
      " #   Column                   Non-Null Count  Dtype  \n",
      "---  ------                   --------------  -----  \n",
      " 0   age                      2060 non-null   int64  \n",
      " 1   c_charge_degree          2060 non-null   object \n",
      " 2   race                     2060 non-null   object \n",
      " 3   age_cat                  2060 non-null   object \n",
      " 4   score_text               2060 non-null   object \n",
      " 5   sex                      2060 non-null   object \n",
      " 6   priors_count             2060 non-null   int64  \n",
      " 7   days_b_screening_arrest  2060 non-null   float64\n",
      " 8   decile_score             2060 non-null   int64  \n",
      " 9   is_recid                 2060 non-null   int64  \n",
      " 10  c_jail_in                2060 non-null   object \n",
      " 11  c_jail_out               2060 non-null   object \n",
      "dtypes: float64(1), int64(4), object(7)\n",
      "memory usage: 209.2+ KB\n"
     ]
    }
   ],
   "source": [
    "# perform resampling\n",
    "our_resample = to_resample.sample(n = 2060 , replace = True)\n",
    "\n",
    "# check the resampled set\n",
    "our_resample.info()"
   ]
  },
  {
   "cell_type": "code",
   "execution_count": 26,
   "metadata": {
    "cell_id": "ef1f13a5e4e9445a87dfd591bfa2c7b9",
    "deepnote_cell_type": "code",
    "deepnote_to_be_reexecuted": false,
    "execution_millis": 12,
    "execution_start": 1663760941131,
    "source_hash": "19ab2e6b"
   },
   "outputs": [
    {
     "name": "stdout",
     "output_type": "stream",
     "text": [
      "<class 'pandas.core.frame.DataFrame'>\n",
      "Index: 8837 entries, 4808 to 3996\n",
      "Data columns (total 12 columns):\n",
      " #   Column                   Non-Null Count  Dtype  \n",
      "---  ------                   --------------  -----  \n",
      " 0   age                      8837 non-null   int64  \n",
      " 1   c_charge_degree          8837 non-null   object \n",
      " 2   race                     8837 non-null   object \n",
      " 3   age_cat                  8837 non-null   object \n",
      " 4   score_text               8837 non-null   object \n",
      " 5   sex                      8837 non-null   object \n",
      " 6   priors_count             8837 non-null   int64  \n",
      " 7   days_b_screening_arrest  8837 non-null   float64\n",
      " 8   decile_score             8837 non-null   int64  \n",
      " 9   is_recid                 8837 non-null   int64  \n",
      " 10  c_jail_in                8837 non-null   object \n",
      " 11  c_jail_out               8837 non-null   object \n",
      "dtypes: float64(1), int64(4), object(7)\n",
      "memory usage: 897.5+ KB\n"
     ]
    }
   ],
   "source": [
    "# add the resampled data to the training set\n",
    "crime_train_rebal = pd.concat([crime_train1, our_resample])\n",
    "crime_train_rebal.info()"
   ]
  },
  {
   "cell_type": "code",
   "execution_count": 27,
   "metadata": {
    "cell_id": "5023db2db11f414682cac762d3f7667e",
    "deepnote_cell_type": "code",
    "deepnote_to_be_reexecuted": false,
    "execution_millis": 2,
    "execution_start": 1663760981059,
    "source_hash": "4202b1e8"
   },
   "outputs": [
    {
     "data": {
      "text/plain": [
       "race\n",
       "African-American    3407\n",
       "Hispanic            2651\n",
       "Caucasian           2328\n",
       "Other                399\n",
       "Asian                 37\n",
       "Native American       15\n",
       "Name: count, dtype: int64"
      ]
     },
     "execution_count": 27,
     "metadata": {},
     "output_type": "execute_result"
    }
   ],
   "source": [
    "# resampled distribution of race\n",
    "crime_train_rebal['race'].value_counts()"
   ]
  },
  {
   "cell_type": "markdown",
   "metadata": {
    "cell_id": "460dc0ad7db546eba584ecc498370624",
    "deepnote_cell_type": "markdown"
   },
   "source": [
    "#### To Do: Create a new training/testing partitions using an 80%-20% split ratio."
   ]
  },
  {
   "cell_type": "code",
   "execution_count": 28,
   "metadata": {
    "cell_id": "8dd52879c65c41c1bdc9b4ec464ebc93",
    "deepnote_cell_type": "code",
    "deepnote_to_be_reexecuted": false,
    "execution_millis": 0,
    "execution_start": 1663686023391,
    "source_hash": "b623e53d"
   },
   "outputs": [],
   "source": [
    "#split the data into 80% for training and 20% for testing\n",
    "crime_train2, crime_test2 = train_test_split(crime_df, test_size =0.20, random_state = 7)"
   ]
  },
  {
   "cell_type": "code",
   "execution_count": 29,
   "metadata": {},
   "outputs": [
    {
     "name": "stdout",
     "output_type": "stream",
     "text": [
      "(1808, 12)\n",
      "(7228, 12)\n"
     ]
    }
   ],
   "source": [
    "# check size of partitions\n",
    "print(crime_test2.shape)\n",
    "print(crime_train2.shape)"
   ]
  },
  {
   "cell_type": "markdown",
   "metadata": {
    "cell_id": "e56b63feeb3844258472d5b073ff97c9",
    "deepnote_cell_type": "markdown"
   },
   "source": [
    "#### To Do: Using your newly created partition balance the race categories in the dataset. Note that you can ignore the 'other' race value."
   ]
  },
  {
   "cell_type": "code",
   "execution_count": 30,
   "metadata": {
    "cell_id": "f3941659030746f0b617156e8c82de6b",
    "deepnote_cell_type": "code",
    "deepnote_to_be_reexecuted": false,
    "execution_millis": 4,
    "execution_start": 1663686023392,
    "source_hash": "b623e53d"
   },
   "outputs": [
    {
     "name": "stdout",
     "output_type": "stream",
     "text": [
      "7228\n"
     ]
    },
    {
     "data": {
      "text/plain": [
       "race\n",
       "African-American    3644\n",
       "Caucasian           2468\n",
       "Hispanic             628\n",
       "Other                432\n",
       "Asian                 40\n",
       "Native American       16\n",
       "Name: count, dtype: int64"
      ]
     },
     "execution_count": 30,
     "metadata": {},
     "output_type": "execute_result"
    }
   ],
   "source": [
    "# balance the dataset\n",
    "print(crime_train2['race'].count())\n",
    "crime_train2['race'].value_counts()"
   ]
  },
  {
   "cell_type": "markdown",
   "metadata": {
    "cell_id": "393d1a09e6d0443fbc0f2baff2534ec9",
    "deepnote_cell_type": "markdown"
   },
   "source": [
    "## Baseline"
   ]
  },
  {
   "cell_type": "markdown",
   "metadata": {
    "cell_id": "22870fe773c04e7e978be475242632b3",
    "deepnote_cell_type": "markdown"
   },
   "source": [
    "If we want to predict the decile score text (low, medium, high) we can look at the distribution of the values we have for this attribute"
   ]
  },
  {
   "cell_type": "code",
   "execution_count": 31,
   "metadata": {
    "cell_id": "5fffde33fb3f49eebbe81b4004a64c76",
    "deepnote_cell_type": "code",
    "deepnote_to_be_reexecuted": false,
    "execution_millis": 19,
    "execution_start": 1663761179959,
    "source_hash": "fc8dfd6a"
   },
   "outputs": [
    {
     "data": {
      "text/plain": [
       "score_text\n",
       "Low       5284\n",
       "Medium    2093\n",
       "High      1460\n",
       "Name: count, dtype: int64"
      ]
     },
     "execution_count": 31,
     "metadata": {},
     "output_type": "execute_result"
    }
   ],
   "source": [
    "crime_train_rebal['score_text'].value_counts()"
   ]
  },
  {
   "cell_type": "markdown",
   "metadata": {
    "cell_id": "327c2ee6465f4483ac9d88d5a425dca6",
    "deepnote_cell_type": "markdown"
   },
   "source": [
    "Since 'Low' is the most occurring value for this target attribute we will use that as the prediction value for any records.\n",
    "If we use this on our training set we would correctly classify 5260 records and miss-classify 3577 (2130 + 1447) records. This gives us an accuracy around 60%.\n",
    "\n",
    "Evaluating the model using the same dataset that was used to establish the model is not ideal. That is why we had held out the test set when establishing this baseline so we can get a better idea how this baseline model would perform on unseen data.\n",
    "\n",
    "Let's see how well we can do with this baseline if we used the test partition we held out."
   ]
  },
  {
   "cell_type": "markdown",
   "metadata": {
    "cell_id": "87b6e9ec43a6412a851a007a457948d0",
    "deepnote_cell_type": "markdown"
   },
   "source": [
    "Since 'Low' is the most occurring value for this target attribute we will use that as the prediction for our test set."
   ]
  },
  {
   "cell_type": "code",
   "execution_count": 32,
   "metadata": {
    "cell_id": "cd9a8a5fc0c440e6bd56e1c26664b540",
    "deepnote_cell_type": "code",
    "deepnote_to_be_reexecuted": false,
    "execution_millis": 608,
    "execution_start": 1663761533629,
    "source_hash": "72639513"
   },
   "outputs": [
    {
     "data": {
      "text/plain": [
       "score_text\n",
       "Low       1288\n",
       "Medium     559\n",
       "High       412\n",
       "Name: count, dtype: int64"
      ]
     },
     "execution_count": 32,
     "metadata": {},
     "output_type": "execute_result"
    }
   ],
   "source": [
    "crime_test1['score_text'].value_counts()"
   ]
  },
  {
   "cell_type": "markdown",
   "metadata": {
    "cell_id": "e27d68cba36f468b86475b2351925814",
    "deepnote_cell_type": "markdown"
   },
   "source": [
    "Using this baseline model we would correctly classify 1288 test cases and incorrectly classify 971 (559 + 412) cases. Our accuracy is around 57%\n"
   ]
  },
  {
   "cell_type": "markdown",
   "metadata": {
    "cell_id": "8d98fe654e00490c85d73e0f10f121e0",
    "deepnote_cell_type": "markdown"
   },
   "source": [
    "#### TO DO: Using a similar approach for establishing a baseline what would our accuracy be if our target attribute is 'c_charge_degree'?"
   ]
  },
  {
   "cell_type": "code",
   "execution_count": 34,
   "metadata": {
    "cell_id": "720a13dfe2f341eb87d19dc2d933b7ef",
    "deepnote_cell_type": "code"
   },
   "outputs": [
    {
     "data": {
      "text/plain": [
       "c_charge_degree\n",
       "(F3)     1236\n",
       "(M1)      637\n",
       "(F2)      182\n",
       "(M2)      147\n",
       "(F1)       23\n",
       "(F7)       20\n",
       "(MO3)      10\n",
       "(NI0)       2\n",
       "(F5)        1\n",
       "(CO3)       1\n",
       "Name: count, dtype: int64"
      ]
     },
     "execution_count": 34,
     "metadata": {},
     "output_type": "execute_result"
    }
   ],
   "source": [
    "crime_test1['c_charge_degree'].value_counts()"
   ]
  },
  {
   "cell_type": "code",
   "execution_count": 35,
   "metadata": {},
   "outputs": [
    {
     "data": {
      "text/plain": [
       "c_charge_degree\n",
       "(F3)     4652\n",
       "(M1)     2557\n",
       "(F2)      691\n",
       "(M2)      661\n",
       "(F1)      128\n",
       "(F7)       88\n",
       "(MO3)      42\n",
       "(F5)        8\n",
       "(NI0)       3\n",
       "(TCX)       3\n",
       "(F6)        3\n",
       "(X)         1\n",
       "Name: count, dtype: int64"
      ]
     },
     "execution_count": 35,
     "metadata": {},
     "output_type": "execute_result"
    }
   ],
   "source": [
    "crime_train_rebal['c_charge_degree'].value_counts()"
   ]
  },
  {
   "cell_type": "code",
   "execution_count": 36,
   "metadata": {},
   "outputs": [
    {
     "data": {
      "text/plain": [
       "c_charge_degree\n",
       "(F3)     987\n",
       "(M1)     511\n",
       "(F2)     145\n",
       "(M2)     121\n",
       "(F1)      17\n",
       "(F7)      15\n",
       "(MO3)      8\n",
       "(NI0)      2\n",
       "(F5)       1\n",
       "(CO3)      1\n",
       "Name: count, dtype: int64"
      ]
     },
     "execution_count": 36,
     "metadata": {},
     "output_type": "execute_result"
    }
   ],
   "source": [
    "crime_test2['c_charge_degree'].value_counts()"
   ]
  }
 ],
 "metadata": {
  "deepnote": {},
  "deepnote_execution_queue": [],
  "deepnote_notebook_id": "727edd42c98f44b59c30abe8ab4d0e48",
  "deepnote_persisted_session": {
   "createdAt": "2022-09-21T03:15:21.569Z"
  },
  "kernelspec": {
   "display_name": "Python 3 (ipykernel)",
   "language": "python",
   "name": "python3"
  },
  "language_info": {
   "codemirror_mode": {
    "name": "ipython",
    "version": 3
   },
   "file_extension": ".py",
   "mimetype": "text/x-python",
   "name": "python",
   "nbconvert_exporter": "python",
   "pygments_lexer": "ipython3",
   "version": "3.11.5"
  }
 },
 "nbformat": 4,
 "nbformat_minor": 4
}
