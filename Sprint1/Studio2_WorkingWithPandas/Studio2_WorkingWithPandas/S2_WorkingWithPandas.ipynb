{
 "cells": [
  {
   "cell_type": "markdown",
   "id": "38d3e071-0ffc-451e-a9a0-cc1dcf4f2b19",
   "metadata": {},
   "source": [
    "In the previous activity we introduced the basics of reading data into a DataFrame. In this activity we will practice some more DataFrame operations. \n",
    "We will us the full US cities crime dataset rather than just focusing on the Charlotte."
   ]
  },
  {
   "cell_type": "code",
   "execution_count": null,
   "id": "f8f027f1-30b4-437f-b063-304ab51c0390",
   "metadata": {},
   "outputs": [],
   "source": [
    "# Render our plots inline\n",
    "%matplotlib inline\n",
    "\n",
    "import pandas as pd\n",
    "import matplotlib.pyplot as plt\n",
    "\n",
    "# Make the graphs a bit prettier, and bigger\n",
    "plt.style.use('ggplot')\n",
    "plt.rcParams['figure.figsize'] = (15, 7)\n"
   ]
  },
  {
   "cell_type": "code",
   "execution_count": null,
   "id": "ef9c793f-1786-474c-b366-20ea0f781ffa",
   "metadata": {},
   "outputs": [],
   "source": [
    "# Read data\n",
    "crime_df = pd.read_csv('us_crime.csv',encoding = \"ISO-8859-1\")"
   ]
  },
  {
   "cell_type": "markdown",
   "id": "b3e3cf2b-1af9-4777-8440-f511b21ef856",
   "metadata": {},
   "source": [
    "The simplest way to quickly peak into what is in a DataFrame is to just print it to the console. For example to see the DataFrame we created before you can just type df and see something like\n"
   ]
  },
  {
   "cell_type": "code",
   "execution_count": null,
   "id": "02661be4-d9ff-4b01-9a58-ca5b9a08f540",
   "metadata": {},
   "outputs": [],
   "source": [
    "crime_df"
   ]
  },
  {
   "cell_type": "markdown",
   "id": "3010e2f6-99dd-4b2b-97cc-9ada2a214b38",
   "metadata": {},
   "source": [
    "This shows that we have 15 columns and 41 rows in our DataFrame.\n",
    "However large DataFrames cannot be printed to the console and we have higher level commands to inspect its contents. To get information on the schema of the DataFrames, we can use the info function\n"
   ]
  },
  {
   "cell_type": "code",
   "execution_count": null,
   "id": "32667da0-5939-49b2-b42f-78c892645461",
   "metadata": {},
   "outputs": [],
   "source": [
    "crime_df.info()"
   ]
  },
  {
   "cell_type": "markdown",
   "id": "0f9464b7-4ad9-494e-9325-f502d7ad3505",
   "metadata": {},
   "source": [
    "In the previous activity we saw how we to print a few rows or colums using array-like indexing of row ids or column keys or head() method. Pandas also has a useful method [describe()](https://pandas.pydata.org/docs/reference/api/pandas.DataFrame.describe.html#pandas.DataFrame.describe) that summarizes the contents of numerical columns in a DataFrame. For example in crime_df we can see the mean, standard deviation etc. for the column a by running describe.\n"
   ]
  },
  {
   "cell_type": "code",
   "execution_count": null,
   "id": "68c5b5d1-01ac-44bf-9d81-5627c29469ae",
   "metadata": {},
   "outputs": [],
   "source": [
    "crime_df.describe()"
   ]
  },
  {
   "cell_type": "markdown",
   "id": "568157cd-12ed-4fbc-87e3-aa1fb37084cf",
   "metadata": {},
   "source": [
    "Now that we worked our way through the basics, lets now see how we can use Pandas for data analysis.\n",
    "### SQL-like operators\n",
    "Next we will look at operators in Pandas that allow us to perform SQL-like queries on the dataset.\n",
    "Selection\n",
    "A SQL statement typically selects a subset of rows from a table that match a given criteria. This is known as the selection operator in Relational Algebra. Similarly we can perform selections in Pandas using boolean indexing.\n",
    "\n",
    "Boolean indexing refers to a technique where you can use a list of boolean values to filter a DataFrame. For example lets say we only want entries from '1998'. To do this we can create a boolean list like\n"
   ]
  },
  {
   "cell_type": "code",
   "execution_count": null,
   "id": "98b7a09e-6eb3-47fe-96e0-67622dd9fa63",
   "metadata": {},
   "outputs": [],
   "source": [
    "is_1998 = crime_df['report_year'] == 1998"
   ]
  },
  {
   "cell_type": "markdown",
   "id": "d2c026db-f38a-44b4-a013-712313a8047f",
   "metadata": {},
   "source": [
    "If we look at this boolean list we can see that it indicates which row match the selection criteria we defined (report_year = 1998)"
   ]
  },
  {
   "cell_type": "code",
   "execution_count": null,
   "id": "dc1a45fa-7119-4de9-9a4d-55d1fe776c85",
   "metadata": {
    "tags": []
   },
   "outputs": [],
   "source": [
    "is_1998.head()"
   ]
  },
  {
   "cell_type": "markdown",
   "id": "d7abee2e-157f-40d2-8239-98403a9cd6a9",
   "metadata": {
    "tags": []
   },
   "source": [
    "Now we can filter our DataFrame by passing it the boolean list."
   ]
  },
  {
   "cell_type": "code",
   "execution_count": null,
   "id": "5d96258e-8f07-4023-87f3-311d563a2565",
   "metadata": {},
   "outputs": [],
   "source": [
    "_1998_df = crime_df[is_1998]"
   ]
  },
  {
   "cell_type": "markdown",
   "id": "7b224761-5a17-43bd-8d1b-9af46ac3af39",
   "metadata": {},
   "source": [
    "Let's print out this filtered dataframe\n"
   ]
  },
  {
   "cell_type": "code",
   "execution_count": null,
   "id": "5ba9cb10-b937-41e8-87d8-922cc3b33465",
   "metadata": {},
   "outputs": [],
   "source": [
    "_1998_df.head()"
   ]
  },
  {
   "cell_type": "markdown",
   "id": "a2e8ddac-255b-47d0-8af7-c434b61aeb17",
   "metadata": {},
   "source": [
    "Or we can directly do this by passing in the boolean clause to the DataFrame"
   ]
  },
  {
   "cell_type": "code",
   "execution_count": null,
   "id": "29583dc2-d172-431e-b1ad-d6c86890511a",
   "metadata": {},
   "outputs": [],
   "source": [
    "_1998_df = crime_df[crime_df['report_year'] == 1998]\n",
    "_1998_df.head()"
   ]
  },
  {
   "cell_type": "code",
   "execution_count": null,
   "id": "6d5e1ba0-b63d-47f5-a7ce-ee6fb74aa250",
   "metadata": {},
   "outputs": [],
   "source": []
  },
  {
   "cell_type": "markdown",
   "id": "5a17f150-9b70-43bd-8e7e-bbf469a03c35",
   "metadata": {
    "tags": []
   },
   "source": [
    "## TO DO - Select rows reported since the year 2010"
   ]
  },
  {
   "cell_type": "code",
   "execution_count": null,
   "id": "5af4af08-2044-4484-9596-e660eaf23e31",
   "metadata": {
    "tags": []
   },
   "outputs": [],
   "source": []
  },
  {
   "cell_type": "markdown",
   "id": "ed47d48f-a8cc-4937-9fc0-ec77ca2735d9",
   "metadata": {
    "tags": []
   },
   "source": [
    "## TO DO - Select rows where crimes_percapita is greater than 100 and less than 1000\n"
   ]
  },
  {
   "cell_type": "code",
   "execution_count": null,
   "id": "6c438dc8-f1c5-4742-a9d5-b98156061970",
   "metadata": {},
   "outputs": [],
   "source": []
  },
  {
   "cell_type": "markdown",
   "id": "fe3e2510-461d-4cee-bbe6-f2715e921ffb",
   "metadata": {},
   "source": [
    "## TO DO - Select rows where crimes_percapita is less than 50 or greater than 2000"
   ]
  },
  {
   "cell_type": "code",
   "execution_count": null,
   "id": "d29b0ddf-726e-4e6e-9d0e-3065d0c5d953",
   "metadata": {},
   "outputs": [],
   "source": []
  },
  {
   "cell_type": "markdown",
   "id": "3277ccae-2abb-4103-92ca-1de585c622c8",
   "metadata": {},
   "source": [
    "### Projection\n",
    "While selection is used for filtering rows, projection is the relational algebra operator used to select columns. To do this with Pandas we just need to pass in a list of columns that we wish to select. For example to only keep the 'report_year', 'agency_jurisdiction' and 'crimes_percapita' columns we would run\n"
   ]
  },
  {
   "cell_type": "code",
   "execution_count": null,
   "id": "10ad33bc-99f5-4129-b2ba-a1a88c605092",
   "metadata": {},
   "outputs": [],
   "source": [
    "crime_percap = crime_df[['report_year', 'agency_jurisdiction','crimes_percapita']]\n",
    "crime_percap.head(5)"
   ]
  },
  {
   "cell_type": "markdown",
   "id": "41c713c2-45b9-42cf-923b-ea111821dd1e",
   "metadata": {},
   "source": [
    "### Grouping\n",
    "Pandas also allows you to group the DataFrame by values in any column. For example to group rows by 'agency_code' you can run"
   ]
  },
  {
   "cell_type": "code",
   "execution_count": null,
   "id": "0ba64a83-668f-42e6-b3df-7c36b2e8d3bd",
   "metadata": {},
   "outputs": [],
   "source": [
    "grouped = crime_df.groupby('agency_code')\n",
    "grouped"
   ]
  },
  {
   "cell_type": "markdown",
   "id": "bafab1e7-d158-44ed-87d6-5f04f89a2906",
   "metadata": {},
   "source": [
    "As you can see from the output above, grouped is not a DataFrame but an object of type DataFrameGroupBy. This just means that it contains a number of groups and each group is in turn a DataFrame. To see this try"
   ]
  },
  {
   "cell_type": "code",
   "execution_count": null,
   "id": "309cab3d-358a-4609-bf46-10563fa28698",
   "metadata": {},
   "outputs": [],
   "source": [
    "# number of groups found\n",
    "grouped.ngroups\n",
    "# keys for this groups (in this example agency_code)\n",
    "grouped.groups.keys()"
   ]
  },
  {
   "cell_type": "markdown",
   "id": "5fccc33c-cbc9-467e-9c00-6e39e854252a",
   "metadata": {},
   "source": [
    "You can also group by multiple columns by just passing the a list of column names. For example to group by both year and agency code you can run\n"
   ]
  },
  {
   "cell_type": "code",
   "execution_count": null,
   "id": "0c017d34-9da8-4bb4-9047-a6835bfc26f4",
   "metadata": {},
   "outputs": [],
   "source": [
    "grouped = crime_df.groupby(['report_year','agency_code'])"
   ]
  },
  {
   "cell_type": "code",
   "execution_count": null,
   "id": "c3790a44-c182-49c2-a3f3-acbc4813cf5f",
   "metadata": {},
   "outputs": [],
   "source": [
    "grouped.describe()"
   ]
  },
  {
   "cell_type": "markdown",
   "id": "e4c0451d-41e4-4f5b-aa9e-26029c0d4f0e",
   "metadata": {},
   "source": [
    "Pandas also has useful commands to print various statistics about elements in each group.\n",
    "- grouped.describe() prints summary statistics for numeric columns in each group \n",
    "- grouped.size() prints the number of elements in each group. \n",
    "- Similarly grouped.sum(), grouped.mean() and grouped.median() print the sum, mean and median values for numeric columns in each group\n"
   ]
  },
  {
   "cell_type": "markdown",
   "id": "7f8631fd-5947-473d-a38f-aa6ec7857f57",
   "metadata": {},
   "source": [
    "### Other SQL operators\n",
    "We have only looked at the basic SQL operators so far. Pandas also supports operations like sort, join and indexing to support a wide-range of queries. You can read more about this and try out examples with the [Pandas comparison to SQL](https://pandas.pydata.org/pandas-docs/stable/getting_started/comparison/comparison_with_sql.html)\n"
   ]
  },
  {
   "cell_type": "markdown",
   "id": "f0ec3108-4d48-4997-9491-1b7e25dec44b",
   "metadata": {},
   "source": [
    "## Applying functions to rows, column"
   ]
  },
  {
   "cell_type": "markdown",
   "id": "779ef955-e058-4d7a-a49c-15bd2c7fb3b8",
   "metadata": {},
   "source": [
    "So far we have used SQL-style operators to process our data. However to do data cleaning or more complex analysis we often need to apply functions on row or column of a DataFrame.\n",
    "For example, consider the column 'months_reported' in our Dataframe. It might be useful if we could covert those number of months reported in that year to simply indicate if the reporting was over the whole year (i.e. 12 months) or not. \n",
    "To do this we will define a lambda function to check if the months_reported value is 12 and to call this function on every row of the DataFrame, we use the apply function. apply takes two arguments, the first a function to apply and secondly axis which indicates if this should be applied on every row (axis=1) or column (axis=0)\n",
    "\n",
    "\n",
    "We can convert the values of months_reported column such that values in it equal to 12 are set to True and the rest are set to False"
   ]
  },
  {
   "cell_type": "code",
   "execution_count": null,
   "id": "4a61197f-2871-448c-990d-ee990f346414",
   "metadata": {
    "tags": []
   },
   "outputs": [],
   "source": [
    "crime_df['months_reported'] = crime_df['months_reported'].apply(lambda x:x==12.0)"
   ]
  },
  {
   "cell_type": "code",
   "execution_count": null,
   "id": "6e6f31d5-610c-4118-9dc4-218f55d19262",
   "metadata": {},
   "outputs": [],
   "source": [
    "crime_df"
   ]
  },
  {
   "cell_type": "markdown",
   "id": "ac3e55a7-a2eb-4368-9b64-c8a87ba616c6",
   "metadata": {
    "tags": []
   },
   "source": [
    "## TO DO: Convert the crimes_percapita columm to indicate 'high' value for any rows with number of incidents that is higher than 757"
   ]
  },
  {
   "cell_type": "code",
   "execution_count": null,
   "id": "eb11c8ff-d237-4a32-a8cd-7d9ab510d6b4",
   "metadata": {},
   "outputs": [],
   "source": []
  },
  {
   "cell_type": "code",
   "execution_count": null,
   "id": "e1217463-b24b-4dc1-9462-cb391f2dd4d3",
   "metadata": {},
   "outputs": [],
   "source": []
  }
 ],
 "metadata": {
  "kernelspec": {
   "display_name": "Python 3",
   "language": "python",
   "name": "python3"
  },
  "language_info": {
   "codemirror_mode": {
    "name": "ipython",
    "version": 3
   },
   "file_extension": ".py",
   "mimetype": "text/x-python",
   "name": "python",
   "nbconvert_exporter": "python",
   "pygments_lexer": "ipython3",
   "version": "3.8.8"
  }
 },
 "nbformat": 4,
 "nbformat_minor": 5
}
