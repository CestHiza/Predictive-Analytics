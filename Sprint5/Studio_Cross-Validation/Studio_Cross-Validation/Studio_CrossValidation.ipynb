{
 "cells": [
  {
   "cell_type": "markdown",
   "id": "d1759f8a-7d26-48cd-b7b5-d3f058ca0a85",
   "metadata": {},
   "source": [
    "# Cross Validation\n",
    "<div>\n",
    "<img src=\"attachment:cfcca9bc-c6bf-4531-a18c-df20ccef4379.png\" width=\"300\"/>\n",
    "</div>\n"
   ]
  },
  {
   "cell_type": "markdown",
   "id": "0806f13a-1a24-4700-8d5e-4bce77659103",
   "metadata": {},
   "source": [
    "In this activity we will explore cross validation in evaluating a decision tree classifier.\n",
    "\n",
    "Cross-validation is a statistical method used to estimate the skill of machine learning models.\n",
    "\n",
    "It is commonly used in applied machine learning to compare and select a model for a given predictive modeling problem because it is easy to understand, easy to implement, and results in skill estimates that generally have a lower bias than other methods.\n"
   ]
  },
  {
   "cell_type": "markdown",
   "id": "2550a546-070c-45ce-a610-3486cc6cdd55",
   "metadata": {},
   "source": [
    "### Data Setup"
   ]
  },
  {
   "cell_type": "code",
   "execution_count": 1,
   "id": "52218cf1-8529-46c7-87d6-0b5f4af8bc6e",
   "metadata": {},
   "outputs": [],
   "source": [
    "import pandas as pd\n",
    "import numpy as np"
   ]
  },
  {
   "cell_type": "code",
   "execution_count": 2,
   "id": "cecd8c42-b475-4437-abff-deff4865fc43",
   "metadata": {},
   "outputs": [
    {
     "data": {
      "text/html": [
       "<div>\n",
       "<style scoped>\n",
       "    .dataframe tbody tr th:only-of-type {\n",
       "        vertical-align: middle;\n",
       "    }\n",
       "\n",
       "    .dataframe tbody tr th {\n",
       "        vertical-align: top;\n",
       "    }\n",
       "\n",
       "    .dataframe thead th {\n",
       "        text-align: right;\n",
       "    }\n",
       "</style>\n",
       "<table border=\"1\" class=\"dataframe\">\n",
       "  <thead>\n",
       "    <tr style=\"text-align: right;\">\n",
       "      <th></th>\n",
       "      <th>id</th>\n",
       "      <th>name</th>\n",
       "      <th>first</th>\n",
       "      <th>last</th>\n",
       "      <th>sex</th>\n",
       "      <th>dob</th>\n",
       "      <th>age</th>\n",
       "      <th>age_cat</th>\n",
       "      <th>race</th>\n",
       "      <th>juv_fel_count</th>\n",
       "      <th>...</th>\n",
       "      <th>vr_charge_desc</th>\n",
       "      <th>type_of_assessment</th>\n",
       "      <th>decile_score.1</th>\n",
       "      <th>score_text</th>\n",
       "      <th>screening_date</th>\n",
       "      <th>v_type_of_assessment</th>\n",
       "      <th>v_decile_score</th>\n",
       "      <th>v_score_text</th>\n",
       "      <th>priors_count.1</th>\n",
       "      <th>event</th>\n",
       "    </tr>\n",
       "  </thead>\n",
       "  <tbody>\n",
       "    <tr>\n",
       "      <th>0</th>\n",
       "      <td>1.0</td>\n",
       "      <td>miguel hernandez</td>\n",
       "      <td>miguel</td>\n",
       "      <td>hernandez</td>\n",
       "      <td>Male</td>\n",
       "      <td>18/04/1947</td>\n",
       "      <td>69</td>\n",
       "      <td>Greater than 45</td>\n",
       "      <td>Other</td>\n",
       "      <td>0</td>\n",
       "      <td>...</td>\n",
       "      <td>NaN</td>\n",
       "      <td>Risk of Recidivism</td>\n",
       "      <td>1</td>\n",
       "      <td>Low</td>\n",
       "      <td>14/08/2013</td>\n",
       "      <td>Risk of Violence</td>\n",
       "      <td>1</td>\n",
       "      <td>Low</td>\n",
       "      <td>0</td>\n",
       "      <td>0</td>\n",
       "    </tr>\n",
       "    <tr>\n",
       "      <th>1</th>\n",
       "      <td>2.0</td>\n",
       "      <td>miguel hernandez</td>\n",
       "      <td>miguel</td>\n",
       "      <td>hernandez</td>\n",
       "      <td>Male</td>\n",
       "      <td>18/04/1947</td>\n",
       "      <td>69</td>\n",
       "      <td>Greater than 45</td>\n",
       "      <td>Other</td>\n",
       "      <td>0</td>\n",
       "      <td>...</td>\n",
       "      <td>NaN</td>\n",
       "      <td>Risk of Recidivism</td>\n",
       "      <td>1</td>\n",
       "      <td>Low</td>\n",
       "      <td>14/08/2013</td>\n",
       "      <td>Risk of Violence</td>\n",
       "      <td>1</td>\n",
       "      <td>Low</td>\n",
       "      <td>0</td>\n",
       "      <td>0</td>\n",
       "    </tr>\n",
       "    <tr>\n",
       "      <th>2</th>\n",
       "      <td>3.0</td>\n",
       "      <td>michael ryan</td>\n",
       "      <td>michael</td>\n",
       "      <td>ryan</td>\n",
       "      <td>Male</td>\n",
       "      <td>6/2/85</td>\n",
       "      <td>31</td>\n",
       "      <td>25 - 45</td>\n",
       "      <td>Caucasian</td>\n",
       "      <td>0</td>\n",
       "      <td>...</td>\n",
       "      <td>NaN</td>\n",
       "      <td>Risk of Recidivism</td>\n",
       "      <td>5</td>\n",
       "      <td>Medium</td>\n",
       "      <td>31/12/2014</td>\n",
       "      <td>Risk of Violence</td>\n",
       "      <td>2</td>\n",
       "      <td>Low</td>\n",
       "      <td>0</td>\n",
       "      <td>0</td>\n",
       "    </tr>\n",
       "    <tr>\n",
       "      <th>3</th>\n",
       "      <td>4.0</td>\n",
       "      <td>kevon dixon</td>\n",
       "      <td>kevon</td>\n",
       "      <td>dixon</td>\n",
       "      <td>Male</td>\n",
       "      <td>22/01/1982</td>\n",
       "      <td>34</td>\n",
       "      <td>25 - 45</td>\n",
       "      <td>African-American</td>\n",
       "      <td>0</td>\n",
       "      <td>...</td>\n",
       "      <td>Felony Battery (Dom Strang)</td>\n",
       "      <td>Risk of Recidivism</td>\n",
       "      <td>3</td>\n",
       "      <td>Low</td>\n",
       "      <td>27/01/2013</td>\n",
       "      <td>Risk of Violence</td>\n",
       "      <td>1</td>\n",
       "      <td>Low</td>\n",
       "      <td>0</td>\n",
       "      <td>1</td>\n",
       "    </tr>\n",
       "    <tr>\n",
       "      <th>4</th>\n",
       "      <td>5.0</td>\n",
       "      <td>ed philo</td>\n",
       "      <td>ed</td>\n",
       "      <td>philo</td>\n",
       "      <td>Male</td>\n",
       "      <td>14/05/1991</td>\n",
       "      <td>24</td>\n",
       "      <td>Less than 25</td>\n",
       "      <td>African-American</td>\n",
       "      <td>0</td>\n",
       "      <td>...</td>\n",
       "      <td>NaN</td>\n",
       "      <td>Risk of Recidivism</td>\n",
       "      <td>4</td>\n",
       "      <td>Low</td>\n",
       "      <td>14/04/2013</td>\n",
       "      <td>Risk of Violence</td>\n",
       "      <td>3</td>\n",
       "      <td>Low</td>\n",
       "      <td>4</td>\n",
       "      <td>0</td>\n",
       "    </tr>\n",
       "  </tbody>\n",
       "</table>\n",
       "<p>5 rows × 40 columns</p>\n",
       "</div>"
      ],
      "text/plain": [
       "    id              name    first       last   sex         dob  age  \\\n",
       "0  1.0  miguel hernandez   miguel  hernandez  Male  18/04/1947   69   \n",
       "1  2.0  miguel hernandez   miguel  hernandez  Male  18/04/1947   69   \n",
       "2  3.0      michael ryan  michael       ryan  Male      6/2/85   31   \n",
       "3  4.0       kevon dixon    kevon      dixon  Male  22/01/1982   34   \n",
       "4  5.0          ed philo       ed      philo  Male  14/05/1991   24   \n",
       "\n",
       "           age_cat              race  juv_fel_count  ...  \\\n",
       "0  Greater than 45             Other              0  ...   \n",
       "1  Greater than 45             Other              0  ...   \n",
       "2          25 - 45         Caucasian              0  ...   \n",
       "3          25 - 45  African-American              0  ...   \n",
       "4     Less than 25  African-American              0  ...   \n",
       "\n",
       "                vr_charge_desc  type_of_assessment  decile_score.1  \\\n",
       "0                          NaN  Risk of Recidivism               1   \n",
       "1                          NaN  Risk of Recidivism               1   \n",
       "2                          NaN  Risk of Recidivism               5   \n",
       "3  Felony Battery (Dom Strang)  Risk of Recidivism               3   \n",
       "4                          NaN  Risk of Recidivism               4   \n",
       "\n",
       "   score_text  screening_date v_type_of_assessment v_decile_score  \\\n",
       "0         Low      14/08/2013     Risk of Violence              1   \n",
       "1         Low      14/08/2013     Risk of Violence              1   \n",
       "2      Medium      31/12/2014     Risk of Violence              2   \n",
       "3         Low      27/01/2013     Risk of Violence              1   \n",
       "4         Low      14/04/2013     Risk of Violence              3   \n",
       "\n",
       "   v_score_text priors_count.1 event  \n",
       "0           Low              0     0  \n",
       "1           Low              0     0  \n",
       "2           Low              0     0  \n",
       "3           Low              0     1  \n",
       "4           Low              4     0  \n",
       "\n",
       "[5 rows x 40 columns]"
      ]
     },
     "execution_count": 2,
     "metadata": {},
     "output_type": "execute_result"
    }
   ],
   "source": [
    "# Read dataset\n",
    "crime_df = pd.read_csv('./pb_compas.csv')\n",
    "\n",
    "crime_df.head()"
   ]
  },
  {
   "cell_type": "code",
   "execution_count": 3,
   "id": "d0ea138c-7749-44d9-beb8-1607b147d05c",
   "metadata": {},
   "outputs": [
    {
     "name": "stdout",
     "output_type": "stream",
     "text": [
      "   age c_charge_degree              race   sex  priors_count score_text\n",
      "0   69            (F3)             Other  Male             0        Low\n",
      "2   31             NaN         Caucasian  Male             0     Medium\n",
      "3   34            (F3)  African-American  Male             0        Low\n",
      "4   24            (F3)  African-American  Male             4        Low\n",
      "9   23            (F3)  African-American  Male             1       High\n",
      "(10595, 6)\n"
     ]
    }
   ],
   "source": [
    "# clean up\n",
    "# drop duplicate rows ignoring the id column\n",
    "crime_df.drop_duplicates(subset=crime_df.columns.difference(['id']), inplace=True)\n",
    "#select columns of interest \n",
    "crime_df = crime_df[['age', 'c_charge_degree', 'race', 'sex', 'priors_count','score_text']]\n",
    "print(crime_df.head())\n",
    "crime_df.dropna(inplace=True)\n",
    "crime_df.reset_index(drop=True, inplace=True)\n",
    "print(crime_df.shape)"
   ]
  },
  {
   "cell_type": "markdown",
   "id": "1a74ed67-d4cf-4f4a-b010-53e725753e2b",
   "metadata": {},
   "source": [
    "### k-Fold Cross-Validation\n",
    "Cross-validation is a resampling procedure used to evaluate machine learning models on a limited data sample.\n",
    "\n",
    "Cross-validation procedure consists of:\n",
    "- randomly partitioning the data in k part or 'folds'\n",
    "- set one fold aside for testing\n",
    "- crossvalidation = KFold(n_splits=10, random_state=None, shuffle=False)\n",
    "train the model on the remaining k-1 folds\n",
    "- evaluate the model on the test fold\n",
    "- repeat the process k times\n",
    "- average evaluation results over the k training sets\n",
    "\n",
    "By averaging over training sets we get a sense of the variance of the learning algorithm (i.e., its dependence on variations in the training data). Keep in mind that there is considerable overlap between the training sets and they are clearly not independent."
   ]
  },
  {
   "cell_type": "markdown",
   "id": "39ba9324-29df-4a2f-9263-e528edcc6e4f",
   "metadata": {},
   "source": [
    "Let's revisit our first model - decision tree classifier. "
   ]
  },
  {
   "cell_type": "code",
   "execution_count": 4,
   "id": "1562741a-6250-4879-9f4c-ea5c992e4c86",
   "metadata": {},
   "outputs": [],
   "source": [
    "from sklearn.model_selection import KFold\n",
    "from sklearn.model_selection import cross_val_score\n",
    "from sklearn.tree import DecisionTreeClassifier\n",
    "from sklearn.ensemble import RandomForestClassifier"
   ]
  },
  {
   "cell_type": "markdown",
   "id": "44a5bf38-976d-46cc-b19c-70001e58623c",
   "metadata": {},
   "source": [
    "Recall that we used One-Hot encoding to include nominal variables into our model. In One-Hot encoding, if your variable has n values, you add n-1 columns to your design matrix. This is repeated for each nominal variable we want to use in our model."
   ]
  },
  {
   "cell_type": "code",
   "execution_count": 5,
   "id": "1e52425f-45a2-4c24-a673-db1158b0e533",
   "metadata": {},
   "outputs": [],
   "source": [
    "# for learning our tree we want to use age, c_charge_degree, race, sex, priors_count\n",
    "x = crime_df[['age', 'c_charge_degree', 'race', 'sex', 'priors_count']]"
   ]
  },
  {
   "cell_type": "code",
   "execution_count": 6,
   "id": "a0c99fe3-4d1b-4481-8adc-d54100b3924d",
   "metadata": {},
   "outputs": [],
   "source": [
    "# we want to predict the score text let's make that our y\n",
    "y = crime_df['score_text']"
   ]
  },
  {
   "cell_type": "code",
   "execution_count": 7,
   "id": "7b77a5ab-23a5-4f43-b3f8-340d34aad160",
   "metadata": {},
   "outputs": [],
   "source": [
    "# converting categorical features using one-hot encoding (i.e., dummy features)\n",
    "# textbook approach using statsmodels categorical function is depricated\n",
    "# we will be using pandas get_dummies function instead\n",
    "x = pd.get_dummies(x, columns=['race','sex','c_charge_degree' ], prefix = ['dummy','dummy','dummy'])\n",
    "\n",
    "# sex attribute has two values only so we can drop one of them since they are considered redundant \n",
    "x.drop('dummy_Male', axis=1, inplace=True)\n"
   ]
  },
  {
   "cell_type": "markdown",
   "id": "7beef9f4-cfdd-4082-8235-252248c12145",
   "metadata": {},
   "source": [
    "The KFold function can (intuitively) be used to implement k-fold CV. Here we will use k = 10, a common choice for k, on the Compas data set. We once again set a random seed and initialize a vector in which we will print the CV errors corresponding to the polynomial fits of orders one to ten."
   ]
  },
  {
   "cell_type": "code",
   "execution_count": 8,
   "id": "0bb11c13-5d93-4f20-bed2-70da5e10da5d",
   "metadata": {
    "tags": []
   },
   "outputs": [],
   "source": [
    "k = 10\n",
    "crossvalidation = KFold(n_splits=k, random_state=1, shuffle=True)"
   ]
  },
  {
   "cell_type": "markdown",
   "id": "2be091d1-4785-4b2e-a538-4c0031c31a96",
   "metadata": {},
   "source": [
    "Setup CART decision tree model"
   ]
  },
  {
   "cell_type": "code",
   "execution_count": 9,
   "id": "38403f6d-a877-46e4-9902-8d4b398f5524",
   "metadata": {},
   "outputs": [],
   "source": [
    "cart01 = DecisionTreeClassifier(criterion = \"gini\", max_leaf_nodes=5).fit(x,y)    "
   ]
  },
  {
   "cell_type": "markdown",
   "id": "0ce8f190-1d6f-4581-9b45-11c0b54d903b",
   "metadata": {},
   "source": [
    "now we can evaluate our model using the number of k-folds. Note that the 'cv' term is equal to our KFold module we set above"
   ]
  },
  {
   "cell_type": "code",
   "execution_count": 10,
   "id": "a5b3f38e-512e-4c2f-8ca3-9e8f2a60712e",
   "metadata": {},
   "outputs": [],
   "source": [
    "cart_cv_scores = cross_val_score(cart01, x, y, cv=crossvalidation)"
   ]
  },
  {
   "cell_type": "markdown",
   "id": "0a382912-c7c0-4aa0-838c-dd93ee772ef7",
   "metadata": {},
   "source": [
    "Let's see how well our model performed"
   ]
  },
  {
   "cell_type": "code",
   "execution_count": 11,
   "id": "cc81a05f-fbd3-423c-971d-61826eedfbb5",
   "metadata": {},
   "outputs": [
    {
     "name": "stdout",
     "output_type": "stream",
     "text": [
      "Cart cross validation scores with k=10:  [0.63018868 0.58679245 0.6254717  0.58490566 0.61792453 0.62417375\n",
      " 0.62983947 0.63172805 0.63078376 0.60434372]\n",
      "Average score of all folds: 0.616615176296613\n"
     ]
    }
   ],
   "source": [
    "print(\"Cart cross validation scores with k=10: \", cart_cv_scores)\n",
    "print(\"Average score of all folds:\",cart_cv_scores.mean())"
   ]
  },
  {
   "cell_type": "markdown",
   "id": "3db386c1-087d-4fee-a5df-166f59e83657",
   "metadata": {},
   "source": [
    "### To Do: How does this result using k-fold cross-validation compare to the result we got from using training-testing split in the previous activity?"
   ]
  },
  {
   "cell_type": "code",
   "execution_count": null,
   "id": "13440b52-c5e1-4b71-b1e4-96069d495c16",
   "metadata": {},
   "outputs": [],
   "source": [
    "## provides a more robust estimate of the model’s performance compared to a simple training-testing split"
   ]
  },
  {
   "cell_type": "markdown",
   "id": "47f68b47-3311-4593-a362-2b07dd2ada84",
   "metadata": {},
   "source": [
    "### To Do: Repeat using k-fold cross-validation on the C5.0 Decision Tree model and compare the evaluation result to results from using training-testing split."
   ]
  },
  {
   "cell_type": "code",
   "execution_count": 12,
   "id": "196f3e63-c34d-4815-920b-c0b1c634677e",
   "metadata": {},
   "outputs": [
    {
     "name": "stdout",
     "output_type": "stream",
     "text": [
      "C5.0-like Decision Tree cross-validation scores with k=10:  [0.62641509 0.58679245 0.6254717  0.58490566 0.61792453 0.62134089\n",
      " 0.62700661 0.63172805 0.63078376 0.60434372]\n",
      "Average score of all folds: 0.6156712455680867\n"
     ]
    }
   ],
   "source": [
    "cart_c5 = DecisionTreeClassifier(criterion=\"entropy\", max_leaf_nodes=5).fit(x, y)\n",
    "cart_c5_cv_scores = cross_val_score(cart_c5, x, y, cv=crossvalidation)\n",
    "\n",
    "print(\"C5.0-like Decision Tree cross-validation scores with k=10: \", cart_c5_cv_scores)\n",
    "print(\"Average score of all folds:\", cart_c5_cv_scores.mean())"
   ]
  },
  {
   "cell_type": "markdown",
   "id": "ab290b0a-6ede-4f23-a170-42dcd6b56c04",
   "metadata": {},
   "source": [
    "### To Do: Repeat using k-fold cross-validation on the Random Forest Decision Tree model and compare the evaluation result to results from using training-testing split."
   ]
  },
  {
   "cell_type": "code",
   "execution_count": 13,
   "id": "e3219d3e-c043-4c81-b543-2990dc03c4d1",
   "metadata": {},
   "outputs": [
    {
     "name": "stdout",
     "output_type": "stream",
     "text": [
      "Random Forest cross-validation scores with k=10:  [0.62924528 0.57830189 0.62264151 0.58207547 0.61132075 0.6128423\n",
      " 0.60056657 0.60528801 0.63456091 0.598678  ]\n",
      "Average score of all folds: 0.6075520694140074\n"
     ]
    }
   ],
   "source": [
    "random_forest = RandomForestClassifier(random_state=1).fit(x, y)\n",
    "random_forest_cv_scores = cross_val_score(random_forest, x, y, cv=crossvalidation)\n",
    "\n",
    "print(\"Random Forest cross-validation scores with k=10: \", random_forest_cv_scores)\n",
    "print(\"Average score of all folds:\", random_forest_cv_scores.mean())"
   ]
  },
  {
   "cell_type": "markdown",
   "id": "56ce3d69-8f55-45d1-8260-dc3f8f549641",
   "metadata": {},
   "source": [
    "### To Do: If you were going to use cross-validation using Leave-one-out method on this data set what would you set the value of k? Why did you choose this value? "
   ]
  },
  {
   "cell_type": "code",
   "execution_count": null,
   "id": "0d022ff0-cf8e-4aae-9b19-cf82537c5c7f",
   "metadata": {},
   "outputs": [],
   "source": [
    "# the value of k should be set to the number of observations in the dataset.\n",
    "# it provides the maximum possible training data for each fold, making it useful when the dataset is very small"
   ]
  },
  {
   "cell_type": "markdown",
   "id": "4505c969-c44c-4853-b989-6716d0a9f778",
   "metadata": {},
   "source": [
    "## Stratified  k-folds\n",
    "Stratified sampling is a method of selecting samples from a population by dividing the population into groups, referred to as \"strata,\" based on a specific characteristic, and then choosing samples from each stratum in proportions that mirror their representation in the overall population.\n",
    "\n",
    "Incorporating the principle of stratified sampling into cross-validation guarantees that the training and test sets maintain the same distribution of the target feature as observed in the original dataset."
   ]
  },
  {
   "cell_type": "code",
   "execution_count": 14,
   "id": "35e95088-49a9-4e67-982a-680aaee8d41d",
   "metadata": {},
   "outputs": [],
   "source": [
    "from sklearn.model_selection import StratifiedKFold\n",
    "\n",
    "kfold = StratifiedKFold(n_splits=3,shuffle=True,random_state=11)\n",
    "splits = kfold.split(x,y)"
   ]
  },
  {
   "cell_type": "markdown",
   "id": "cf611ee3-838c-4012-95b5-a338c8fc9c02",
   "metadata": {},
   "source": [
    "Let's see how the proportions of the different values for the target variable look like after using tratified sampling to create our folds."
   ]
  },
  {
   "cell_type": "code",
   "execution_count": 15,
   "id": "43188e27-d127-41d8-a1e5-610563053ec9",
   "metadata": {},
   "outputs": [
    {
     "name": "stdout",
     "output_type": "stream",
     "text": [
      "PROPORTION OF TARGET IN THE ORIGINAL DATA\n",
      "score_text\n",
      "Low       0.548372\n",
      "Medium    0.255781\n",
      "High      0.195847\n",
      "Name: count, dtype: float64\n",
      "\n",
      "\n"
     ]
    }
   ],
   "source": [
    "print(f'PROPORTION OF TARGET IN THE ORIGINAL DATA\\n{y.value_counts() / len(x)}\\n\\n')"
   ]
  },
  {
   "cell_type": "markdown",
   "id": "76bb517d-cd49-4e8e-8e77-01d1b3c6fb2c",
   "metadata": {},
   "source": [
    "Let's also display some information about the sizes of training and test sets and the distribution of the target feature within these sets for each split from the cross-validation process. It can help us assess how the data is divided and whether the target feature distribution is maintained across different splits."
   ]
  },
  {
   "cell_type": "code",
   "execution_count": 16,
   "id": "90a437f1-e23b-4f6d-8b7f-46d6bfdd2956",
   "metadata": {},
   "outputs": [
    {
     "name": "stdout",
     "output_type": "stream",
     "text": [
      "SPLIT NO 1\n",
      "TRAINING SET SIZE: 0.67\tTEST SET SIZE: 0.33\n",
      "PROPORTION OF TARGET IN THE TRAINING SET\n",
      "dummy_Asian\n",
      "False    0.996036\n",
      "True     0.003964\n",
      "Name: count, dtype: float64\n",
      "PROPORTION OF TARGET IN THE TEST SET\n",
      "dummy_Asian\n",
      "False    0.994478\n",
      "True     0.005522\n",
      "Name: count, dtype: float64\n",
      "\n",
      "\n",
      "SPLIT NO 2\n",
      "TRAINING SET SIZE: 0.67\tTEST SET SIZE: 0.33\n",
      "PROPORTION OF TARGET IN THE TRAINING SET\n",
      "dummy_Asian\n",
      "False    0.995187\n",
      "True     0.004813\n",
      "Name: count, dtype: float64\n",
      "PROPORTION OF TARGET IN THE TEST SET\n",
      "dummy_Asian\n",
      "False    0.994903\n",
      "True     0.005097\n",
      "Name: count, dtype: float64\n",
      "\n",
      "\n",
      "SPLIT NO 3\n",
      "TRAINING SET SIZE: 0.67\tTEST SET SIZE: 0.33\n",
      "PROPORTION OF TARGET IN THE TRAINING SET\n",
      "dummy_Asian\n",
      "False    0.993769\n",
      "True     0.006231\n",
      "Name: count, dtype: float64\n",
      "PROPORTION OF TARGET IN THE TEST SET\n",
      "dummy_Asian\n",
      "False    0.995612\n",
      "True     0.004388\n",
      "Name: count, dtype: float64\n",
      "\n",
      "\n"
     ]
    }
   ],
   "source": [
    "for n,(train_index,test_index) in enumerate(splits):\n",
    "    print(f'SPLIT NO {n+1}\\nTRAINING SET SIZE: {np.round(len(train_index) / (len(train_index)+len(test_index)),2)}'+\n",
    "          f'\\tTEST SET SIZE: {np.round(len(test_index) / (len(train_index)+len(test_index)),2)}\\nPROPORTION OF TARGET IN THE TRAINING SET\\n'+\n",
    "          f'{x.iloc[test_index,3].value_counts() / len(x.iloc[test_index,3])}\\nPROPORTION OF TARGET IN THE TEST SET\\n'+\n",
    "          f'{x.iloc[train_index,3].value_counts() / len(x.iloc[train_index,3])}\\n\\n')"
   ]
  },
  {
   "cell_type": "markdown",
   "id": "b9948167-e2d4-4ede-bf11-9df4175321af",
   "metadata": {},
   "source": [
    "### To Do: Repeat creating the Random Forest Decision Tree model using a stratified k-folds and compare the evaluation result to the results from using the k-fold approach above."
   ]
  },
  {
   "cell_type": "code",
   "execution_count": 17,
   "id": "7b00dccc-0e1c-4855-a495-4f358f8f8502",
   "metadata": {},
   "outputs": [
    {
     "name": "stdout",
     "output_type": "stream",
     "text": [
      "Random Forest cross-validation scores with Stratified K-Fold (n_splits=3): [0.59881087 0.59569649 0.59246672]\n",
      "Average score of all stratified folds: 0.5956580281920827\n"
     ]
    }
   ],
   "source": [
    "from sklearn.ensemble import RandomForestClassifier\n",
    "from sklearn.model_selection import cross_val_score, StratifiedKFold\n",
    "\n",
    "# Instantiate the Random Forest model\n",
    "random_forest = RandomForestClassifier(random_state=1)\n",
    "\n",
    "# Stratified K-Fold Cross-Validation with 3 splits\n",
    "kfold = StratifiedKFold(n_splits=3, shuffle=True, random_state=11)\n",
    "random_forest_stratified_cv_scores = cross_val_score(random_forest, x, y, cv=kfold)\n",
    "\n",
    "# Print results\n",
    "print(\"Random Forest cross-validation scores with Stratified K-Fold (n_splits=3):\", random_forest_stratified_cv_scores)\n",
    "print(\"Average score of all stratified folds:\", random_forest_stratified_cv_scores.mean())"
   ]
  }
 ],
 "metadata": {
  "kernelspec": {
   "display_name": "base",
   "language": "python",
   "name": "python3"
  },
  "language_info": {
   "codemirror_mode": {
    "name": "ipython",
    "version": 3
   },
   "file_extension": ".py",
   "mimetype": "text/x-python",
   "name": "python",
   "nbconvert_exporter": "python",
   "pygments_lexer": "ipython3",
   "version": "3.11.5"
  }
 },
 "nbformat": 4,
 "nbformat_minor": 5
}
