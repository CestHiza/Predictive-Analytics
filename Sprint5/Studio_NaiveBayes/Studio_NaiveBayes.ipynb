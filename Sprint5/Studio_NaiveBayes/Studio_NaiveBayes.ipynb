{
 "cells": [
  {
   "cell_type": "markdown",
   "id": "bdf399f7-4142-419c-bf6a-311f3a3c2135",
   "metadata": {},
   "source": [
    "# Classification using Naive Bayes"
   ]
  },
  {
   "cell_type": "markdown",
   "id": "4c9d132c-ae99-429d-b878-674772ea1a97",
   "metadata": {},
   "source": [
    "In this activity we will introduce the MultinomialNB classifier available in the naive_bayes module of sklearn. \n",
    "We'll start by fitting it using default parameters and then try to improve its performance by doing hyperparameter tuning and explore its performance using a confusion matrix.\n",
    "\n",
    "Naive Bayes is a statistical classification technique based on Bayes Theorem. It is one of the simplest supervised learning algorithms. Naive Bayes classifier is a fast, accurate and reliable algorithm. Naive Bayes classifiers have high accuracy and speed on large datasets.\n",
    "\n",
    "References:\n",
    "- https://towardsdatascience.com/why-how-to-use-the-naive-bayes-algorithms-in-a-regulated-industry-with-sklearn-python-code-dbd8304ab2cf\n",
    "- https://www.datacamp.com/community/tutorials/naive-bayes-scikit-learn\n",
    "- https://medium.com/@awantikdas/a-comprehensive-naive-bayes-tutorial-using-scikit-learn-f6b71ae84431\n"
   ]
  },
  {
   "cell_type": "markdown",
   "id": "e743ebb2-d986-4c22-a0b6-d85e04050a17",
   "metadata": {},
   "source": [
    "### Dataset Prep"
   ]
  },
  {
   "cell_type": "code",
   "execution_count": 1,
   "id": "e6c81e9e-b354-4597-aeaa-63f6ab23018e",
   "metadata": {
    "tags": []
   },
   "outputs": [],
   "source": [
    "import pandas as pd\n",
    "import numpy as np"
   ]
  },
  {
   "cell_type": "code",
   "execution_count": 2,
   "id": "54d9948e-a230-4e28-a1b7-747e58eefed0",
   "metadata": {},
   "outputs": [],
   "source": [
    "# Read dataset\n",
    "crime_df = pd.read_csv('./pb_compas.csv')\n",
    "#crime_df.head()"
   ]
  },
  {
   "cell_type": "code",
   "execution_count": 3,
   "id": "923a1aa1-f72d-43a0-aeeb-a61332a8cccb",
   "metadata": {},
   "outputs": [
    {
     "name": "stdout",
     "output_type": "stream",
     "text": [
      "   age c_charge_degree              race   sex  priors_count score_text\n",
      "0   69            (F3)             Other  Male             0        Low\n",
      "1   69            (F3)             Other  Male             0        Low\n",
      "2   31             NaN         Caucasian  Male             0     Medium\n",
      "3   34            (F3)  African-American  Male             0        Low\n",
      "4   24            (F3)  African-American  Male             4        Low\n",
      "(14711, 6)\n"
     ]
    }
   ],
   "source": [
    "# clean up\n",
    "# drop duplicate rows\n",
    "crime_df.drop_duplicates(inplace=True)\n",
    "#select columns of interest \n",
    "crime_df = crime_df[['age', 'c_charge_degree', 'race', 'sex', 'priors_count','score_text']]\n",
    "print(crime_df.head())\n",
    "crime_df.dropna(inplace=True)\n",
    "crime_df.reset_index(drop=True, inplace=True)\n",
    "print(crime_df.shape)"
   ]
  },
  {
   "cell_type": "code",
   "execution_count": 4,
   "id": "a4d3899c-3e16-4d70-8b77-c6f4269d6706",
   "metadata": {},
   "outputs": [],
   "source": [
    "# create dummy fields before split\n",
    "# converting categorical features using one-hot encoding (i.e., dummy features)\n",
    "# textbook approach using statsmodels categorical function is depricated\n",
    "# we will be using pandas get_dummies function instead\n",
    "crime_df = pd.get_dummies(crime_df, columns=['race','sex','c_charge_degree' ], prefix = ['dummy_race','dummy_sex','dummy_charge_degree'])"
   ]
  },
  {
   "cell_type": "code",
   "execution_count": 5,
   "id": "082a851b-76f6-4569-a990-d7d0c9f803f0",
   "metadata": {},
   "outputs": [],
   "source": [
    "# create training and testing sets at 80/20\n",
    "from sklearn.model_selection import train_test_split\n",
    "crime_train, crime_test = train_test_split(crime_df, test_size = .2)"
   ]
  },
  {
   "cell_type": "code",
   "execution_count": 6,
   "id": "628c47f7-a4c9-4383-84cb-8fb4f1995501",
   "metadata": {},
   "outputs": [
    {
     "name": "stdout",
     "output_type": "stream",
     "text": [
      "Index(['age', 'priors_count', 'score_text', 'dummy_race_African-American',\n",
      "       'dummy_race_Asian', 'dummy_race_Caucasian', 'dummy_race_Hispanic',\n",
      "       'dummy_race_Native American', 'dummy_race_Other', 'dummy_sex_Female',\n",
      "       'dummy_sex_Male', 'dummy_charge_degree_(CO3)',\n",
      "       'dummy_charge_degree_(CT)', 'dummy_charge_degree_(F1)',\n",
      "       'dummy_charge_degree_(F2)', 'dummy_charge_degree_(F3)',\n",
      "       'dummy_charge_degree_(F5)', 'dummy_charge_degree_(F6)',\n",
      "       'dummy_charge_degree_(F7)', 'dummy_charge_degree_(M1)',\n",
      "       'dummy_charge_degree_(M2)', 'dummy_charge_degree_(MO3)',\n",
      "       'dummy_charge_degree_(NI0)', 'dummy_charge_degree_(TCX)',\n",
      "       'dummy_charge_degree_(X)'],\n",
      "      dtype='object')\n"
     ]
    }
   ],
   "source": [
    "print(crime_train.columns)"
   ]
  },
  {
   "cell_type": "code",
   "execution_count": 7,
   "id": "32921be3-c0c5-4b38-adcc-3c8e2e9ec51f",
   "metadata": {},
   "outputs": [],
   "source": [
    "# for learning our model we want to use age, c_charge_degree, race, sex, priors_count\n",
    "# notice that we are only including one of the sex dummy attributes since this was a binary feature\n",
    "x = crime_train[['age', 'priors_count','dummy_race_African-American',\n",
    "       'dummy_race_Asian', 'dummy_race_Caucasian', 'dummy_race_Hispanic',\n",
    "       'dummy_race_Native American', 'dummy_race_Other', 'dummy_sex_Female',\n",
    "       'dummy_charge_degree_(CO3)', 'dummy_charge_degree_(CT)', 'dummy_charge_degree_(F1)', 'dummy_charge_degree_(F2)', 'dummy_charge_degree_(F3)',\n",
    "       'dummy_charge_degree_(F5)', 'dummy_charge_degree_(F6)', 'dummy_charge_degree_(F7)', 'dummy_charge_degree_(M1)', 'dummy_charge_degree_(M2)',\n",
    "       'dummy_charge_degree_(MO3)', 'dummy_charge_degree_(NI0)', 'dummy_charge_degree_(TCX)', 'dummy_charge_degree_(X)']]\n",
    "\n",
    "x_test = crime_test[['age', 'priors_count','dummy_race_African-American','dummy_race_Asian', \n",
    "                     'dummy_race_Caucasian', 'dummy_race_Hispanic','dummy_race_Native American', \n",
    "                     'dummy_race_Other', 'dummy_sex_Female',\n",
    "                     'dummy_charge_degree_(CO3)', 'dummy_charge_degree_(CT)', 'dummy_charge_degree_(F1)', 'dummy_charge_degree_(F2)', 'dummy_charge_degree_(F3)',\n",
    "                     'dummy_charge_degree_(F5)', 'dummy_charge_degree_(F6)', 'dummy_charge_degree_(F7)', 'dummy_charge_degree_(M1)', 'dummy_charge_degree_(M2)',\n",
    "                     'dummy_charge_degree_(MO3)', 'dummy_charge_degree_(NI0)', 'dummy_charge_degree_(TCX)', 'dummy_charge_degree_(X)']]"
   ]
  },
  {
   "cell_type": "code",
   "execution_count": 8,
   "id": "05a8eb7a-7b68-4b75-bf43-88a391bd4ea6",
   "metadata": {
    "tags": []
   },
   "outputs": [],
   "source": [
    "# we want to predict the score text let's make that our y\n",
    "y = crime_train['score_text']\n",
    "y_test = crime_test['score_text']"
   ]
  },
  {
   "cell_type": "markdown",
   "id": "25c0a8d3-1cdd-4e4d-b0a1-ba3a063dc46b",
   "metadata": {},
   "source": [
    "### Modeling"
   ]
  },
  {
   "cell_type": "markdown",
   "id": "99c9850c-0f65-4dd4-b9ea-936a73ca16ef",
   "metadata": {},
   "source": [
    "Now that our data is prepared we can start training and evaluating our NB classifier.\n",
    "\n",
    "Refer to the [The multinomial Naive Bayes classifier](https://scikit-learn.org/stable/modules/generated/sklearn.naive_bayes.MultinomialNB.html) for details on the different parameters that can be used with this classifier.\n"
   ]
  },
  {
   "cell_type": "code",
   "execution_count": 9,
   "id": "b1a51594-d511-45d2-baf6-e4869cf1854c",
   "metadata": {},
   "outputs": [
    {
     "data": {
      "text/html": [
       "<style>#sk-container-id-1 {color: black;}#sk-container-id-1 pre{padding: 0;}#sk-container-id-1 div.sk-toggleable {background-color: white;}#sk-container-id-1 label.sk-toggleable__label {cursor: pointer;display: block;width: 100%;margin-bottom: 0;padding: 0.3em;box-sizing: border-box;text-align: center;}#sk-container-id-1 label.sk-toggleable__label-arrow:before {content: \"▸\";float: left;margin-right: 0.25em;color: #696969;}#sk-container-id-1 label.sk-toggleable__label-arrow:hover:before {color: black;}#sk-container-id-1 div.sk-estimator:hover label.sk-toggleable__label-arrow:before {color: black;}#sk-container-id-1 div.sk-toggleable__content {max-height: 0;max-width: 0;overflow: hidden;text-align: left;background-color: #f0f8ff;}#sk-container-id-1 div.sk-toggleable__content pre {margin: 0.2em;color: black;border-radius: 0.25em;background-color: #f0f8ff;}#sk-container-id-1 input.sk-toggleable__control:checked~div.sk-toggleable__content {max-height: 200px;max-width: 100%;overflow: auto;}#sk-container-id-1 input.sk-toggleable__control:checked~label.sk-toggleable__label-arrow:before {content: \"▾\";}#sk-container-id-1 div.sk-estimator input.sk-toggleable__control:checked~label.sk-toggleable__label {background-color: #d4ebff;}#sk-container-id-1 div.sk-label input.sk-toggleable__control:checked~label.sk-toggleable__label {background-color: #d4ebff;}#sk-container-id-1 input.sk-hidden--visually {border: 0;clip: rect(1px 1px 1px 1px);clip: rect(1px, 1px, 1px, 1px);height: 1px;margin: -1px;overflow: hidden;padding: 0;position: absolute;width: 1px;}#sk-container-id-1 div.sk-estimator {font-family: monospace;background-color: #f0f8ff;border: 1px dotted black;border-radius: 0.25em;box-sizing: border-box;margin-bottom: 0.5em;}#sk-container-id-1 div.sk-estimator:hover {background-color: #d4ebff;}#sk-container-id-1 div.sk-parallel-item::after {content: \"\";width: 100%;border-bottom: 1px solid gray;flex-grow: 1;}#sk-container-id-1 div.sk-label:hover label.sk-toggleable__label {background-color: #d4ebff;}#sk-container-id-1 div.sk-serial::before {content: \"\";position: absolute;border-left: 1px solid gray;box-sizing: border-box;top: 0;bottom: 0;left: 50%;z-index: 0;}#sk-container-id-1 div.sk-serial {display: flex;flex-direction: column;align-items: center;background-color: white;padding-right: 0.2em;padding-left: 0.2em;position: relative;}#sk-container-id-1 div.sk-item {position: relative;z-index: 1;}#sk-container-id-1 div.sk-parallel {display: flex;align-items: stretch;justify-content: center;background-color: white;position: relative;}#sk-container-id-1 div.sk-item::before, #sk-container-id-1 div.sk-parallel-item::before {content: \"\";position: absolute;border-left: 1px solid gray;box-sizing: border-box;top: 0;bottom: 0;left: 50%;z-index: -1;}#sk-container-id-1 div.sk-parallel-item {display: flex;flex-direction: column;z-index: 1;position: relative;background-color: white;}#sk-container-id-1 div.sk-parallel-item:first-child::after {align-self: flex-end;width: 50%;}#sk-container-id-1 div.sk-parallel-item:last-child::after {align-self: flex-start;width: 50%;}#sk-container-id-1 div.sk-parallel-item:only-child::after {width: 0;}#sk-container-id-1 div.sk-dashed-wrapped {border: 1px dashed gray;margin: 0 0.4em 0.5em 0.4em;box-sizing: border-box;padding-bottom: 0.4em;background-color: white;}#sk-container-id-1 div.sk-label label {font-family: monospace;font-weight: bold;display: inline-block;line-height: 1.2em;}#sk-container-id-1 div.sk-label-container {text-align: center;}#sk-container-id-1 div.sk-container {/* jupyter's `normalize.less` sets `[hidden] { display: none; }` but bootstrap.min.css set `[hidden] { display: none !important; }` so we also need the `!important` here to be able to override the default hidden behavior on the sphinx rendered scikit-learn.org. See: https://github.com/scikit-learn/scikit-learn/issues/21755 */display: inline-block !important;position: relative;}#sk-container-id-1 div.sk-text-repr-fallback {display: none;}</style><div id=\"sk-container-id-1\" class=\"sk-top-container\"><div class=\"sk-text-repr-fallback\"><pre>MultinomialNB()</pre><b>In a Jupyter environment, please rerun this cell to show the HTML representation or trust the notebook. <br />On GitHub, the HTML representation is unable to render, please try loading this page with nbviewer.org.</b></div><div class=\"sk-container\" hidden><div class=\"sk-item\"><div class=\"sk-estimator sk-toggleable\"><input class=\"sk-toggleable__control sk-hidden--visually\" id=\"sk-estimator-id-1\" type=\"checkbox\" checked><label for=\"sk-estimator-id-1\" class=\"sk-toggleable__label sk-toggleable__label-arrow\">MultinomialNB</label><div class=\"sk-toggleable__content\"><pre>MultinomialNB()</pre></div></div></div></div></div>"
      ],
      "text/plain": [
       "MultinomialNB()"
      ]
     },
     "execution_count": 9,
     "metadata": {},
     "output_type": "execute_result"
    }
   ],
   "source": [
    "from sklearn.naive_bayes import MultinomialNB\n",
    "nb_model = MultinomialNB() # default params - MultinomialNB(alpha=1.0, class_prior=None, fit_prior=True)\n",
    "nb_model.fit(x, y)"
   ]
  },
  {
   "cell_type": "code",
   "execution_count": 10,
   "id": "6b74a685-1b15-4d00-932e-ab28147e0c3c",
   "metadata": {},
   "outputs": [
    {
     "name": "stdout",
     "output_type": "stream",
     "text": [
      "0.5892250169952413\n"
     ]
    }
   ],
   "source": [
    "print(nb_model.score(x,y))"
   ]
  },
  {
   "cell_type": "code",
   "execution_count": 11,
   "id": "cc479075-a6f2-4dc1-ad7f-d3201d4f483b",
   "metadata": {},
   "outputs": [
    {
     "name": "stdout",
     "output_type": "stream",
     "text": [
      "0.601427115188583\n"
     ]
    }
   ],
   "source": [
    "print(nb_model.score(x_test,y_test))"
   ]
  },
  {
   "cell_type": "code",
   "execution_count": 12,
   "id": "5df25467-a743-4678-acf8-db79963bba07",
   "metadata": {},
   "outputs": [],
   "source": [
    "# contingency table of the actual and predicted score text"
   ]
  },
  {
   "cell_type": "code",
   "execution_count": 13,
   "id": "92cfd240-c63d-44f7-bff7-c142d38229f2",
   "metadata": {},
   "outputs": [
    {
     "data": {
      "text/html": [
       "<div>\n",
       "<style scoped>\n",
       "    .dataframe tbody tr th:only-of-type {\n",
       "        vertical-align: middle;\n",
       "    }\n",
       "\n",
       "    .dataframe tbody tr th {\n",
       "        vertical-align: top;\n",
       "    }\n",
       "\n",
       "    .dataframe thead th {\n",
       "        text-align: right;\n",
       "    }\n",
       "</style>\n",
       "<table border=\"1\" class=\"dataframe\">\n",
       "  <thead>\n",
       "    <tr style=\"text-align: right;\">\n",
       "      <th>Predicted</th>\n",
       "      <th>High</th>\n",
       "      <th>Low</th>\n",
       "      <th>Medium</th>\n",
       "      <th>Total</th>\n",
       "    </tr>\n",
       "    <tr>\n",
       "      <th>Actual</th>\n",
       "      <th></th>\n",
       "      <th></th>\n",
       "      <th></th>\n",
       "      <th></th>\n",
       "    </tr>\n",
       "  </thead>\n",
       "  <tbody>\n",
       "    <tr>\n",
       "      <th>High</th>\n",
       "      <td>314</td>\n",
       "      <td>208</td>\n",
       "      <td>132</td>\n",
       "      <td>654</td>\n",
       "    </tr>\n",
       "    <tr>\n",
       "      <th>Low</th>\n",
       "      <td>65</td>\n",
       "      <td>1266</td>\n",
       "      <td>158</td>\n",
       "      <td>1489</td>\n",
       "    </tr>\n",
       "    <tr>\n",
       "      <th>Medium</th>\n",
       "      <td>204</td>\n",
       "      <td>406</td>\n",
       "      <td>190</td>\n",
       "      <td>800</td>\n",
       "    </tr>\n",
       "    <tr>\n",
       "      <th>Total</th>\n",
       "      <td>583</td>\n",
       "      <td>1880</td>\n",
       "      <td>480</td>\n",
       "      <td>2943</td>\n",
       "    </tr>\n",
       "  </tbody>\n",
       "</table>\n",
       "</div>"
      ],
      "text/plain": [
       "Predicted  High   Low  Medium  Total\n",
       "Actual                              \n",
       "High        314   208     132    654\n",
       "Low          65  1266     158   1489\n",
       "Medium      204   406     190    800\n",
       "Total       583  1880     480   2943"
      ]
     },
     "execution_count": 13,
     "metadata": {},
     "output_type": "execute_result"
    }
   ],
   "source": [
    "y_predicted = nb_model.predict(x_test)\n",
    "ypred = pd.crosstab(y_test, y_predicted, rownames = ['Actual'], colnames = ['Predicted'])\n",
    "ypred['Total'] = ypred.sum(axis=1) \n",
    "ypred.loc['Total'] = ypred.sum()\n",
    "ypred"
   ]
  },
  {
   "cell_type": "markdown",
   "id": "df18d3a3-0c2d-4986-881b-e065295b500b",
   "metadata": {},
   "source": [
    "Let's create a function that we can call to plot a confusion matrix"
   ]
  },
  {
   "cell_type": "code",
   "execution_count": 14,
   "id": "07264438-03b8-4809-b4cd-9b10681b1646",
   "metadata": {},
   "outputs": [],
   "source": [
    "from sklearn.metrics import confusion_matrix\n",
    "import matplotlib.pyplot as plt\n",
    "\n",
    "def plot_confusion_matrix(Y_test, Y_preds):\n",
    "    conf_mat = confusion_matrix(Y_test, Y_preds)\n",
    "    #print(conf_mat)\n",
    "    fig = plt.figure(figsize=(6,6))\n",
    "    plt.matshow(conf_mat, cmap=plt.cm.Blues, fignum=1)\n",
    "    plt.yticks(range(3), range(3))\n",
    "    plt.xticks(range(3), range(3))\n",
    "    plt.colorbar();\n",
    "    for i in range(3):\n",
    "        for j in range(3):\n",
    "            plt.text(i-0.2,j+0.1, str(conf_mat[j, i]), color='tab:red')\n"
   ]
  },
  {
   "cell_type": "code",
   "execution_count": 15,
   "id": "560eba10-c5e8-46dc-93bd-88cf1089b63a",
   "metadata": {},
   "outputs": [
    {
     "data": {
      "image/png": "[encoded data removed]",
      "text/plain": [
       "<Figure size 600x600 with 2 Axes>"
      ]
     },
     "metadata": {},
     "output_type": "display_data"
    }
   ],
   "source": [
    "\n",
    "plot_confusion_matrix(y_test, nb_model.predict(x_test))\n"
   ]
  },
  {
   "cell_type": "markdown",
   "id": "70a45561-040e-4f61-a5f9-96b11c0b0333",
   "metadata": {},
   "source": [
    "### Model Tuning using Grid Search On Various Hyperparameters\n"
   ]
  },
  {
   "cell_type": "markdown",
   "id": "c38a7dff-b4d5-4fc6-b4e9-f3fc0aaf9dbc",
   "metadata": {},
   "source": [
    "**GridSearchCV** - Is a wrapper class provided by sklearn which loops through all parameters provided as params_grid parameter with a number of cross-validation folds provided as cv parameter, evaluates model performance on all combinations and stores all results in cv_results_ attribute. It also stores the model which performs best in all cross-validation folds in best_estimator_ attribute and best score in best_score_ attribute."
   ]
  },
  {
   "cell_type": "code",
   "execution_count": 16,
   "id": "756af6ed-a04d-4a06-bcf6-d1e478eeafff",
   "metadata": {},
   "outputs": [
    {
     "name": "stdout",
     "output_type": "stream",
     "text": [
      "Fitting 10 folds for each of 5 candidates, totalling 50 fits\n",
      "Train Accuracy : 0.589\n",
      "Test Accuracy : 0.602\n",
      "Best Accuracy Through Grid Search : 0.588\n",
      "Best Parameters :  {'alpha': 0.01}\n"
     ]
    }
   ],
   "source": [
    "from sklearn.model_selection import GridSearchCV\n",
    "\n",
    "params = {'alpha': [0.01, 0.1, 0.5, 1.0, 10.0]}\n",
    "\n",
    "multinomial_nb_grid = GridSearchCV(MultinomialNB(), param_grid=params, n_jobs=-1, cv=10, verbose=5)\n",
    "multinomial_nb_grid.fit(x,y)\n",
    "\n",
    "print('Train Accuracy : %.3f'%multinomial_nb_grid.best_estimator_.score(x, y))\n",
    "print('Test Accuracy : %.3f'%multinomial_nb_grid.best_estimator_.score(x_test, y_test))\n",
    "print('Best Accuracy Through Grid Search : %.3f'%multinomial_nb_grid.best_score_)\n",
    "print('Best Parameters : ',multinomial_nb_grid.best_params_)"
   ]
  },
  {
   "cell_type": "markdown",
   "id": "7e157809-9814-4a41-a7a9-f678fa773560",
   "metadata": {},
   "source": [
    "Now let's plot the confusion matrix again with the best estimator that we found out using grid search.\n"
   ]
  },
  {
   "cell_type": "code",
   "execution_count": 17,
   "id": "ee3ec234-1df4-4d39-a15b-b401f6d159fa",
   "metadata": {},
   "outputs": [
    {
     "data": {
      "image/png": "[encoded data removed]",
      "text/plain": [
       "<Figure size 600x600 with 2 Axes>"
      ]
     },
     "metadata": {},
     "output_type": "display_data"
    }
   ],
   "source": [
    "plot_confusion_matrix(y_test, multinomial_nb_grid.best_estimator_.predict(x_test))"
   ]
  },
  {
   "cell_type": "markdown",
   "id": "95ad7485-141d-401d-88e7-b6bbf72d18fd",
   "metadata": {},
   "source": [
    "In this case we didn't see any noticeable gains for tuning this parameter. This might be different if other features were used for training the model."
   ]
  },
  {
   "cell_type": "markdown",
   "id": "9d7b913f-07e0-49d2-b244-1a72fd99fafa",
   "metadata": {},
   "source": [
    "## TO DO - Compare the results from using Naive Bayes classifier using cross-validation to the results using Decision Trees."
   ]
  },
  {
   "cell_type": "code",
   "execution_count": 18,
   "id": "fa05adfa-807e-4db3-a5b9-a7cc12294e07",
   "metadata": {},
   "outputs": [],
   "source": [
    "from sklearn.tree import DecisionTreeClassifier\n",
    "from sklearn.model_selection import cross_val_score"
   ]
  },
  {
   "cell_type": "code",
   "execution_count": 19,
   "id": "4c27ebeb",
   "metadata": {},
   "outputs": [],
   "source": [
    "# Initialize Decision Tree classifier\n",
    "dt_model = DecisionTreeClassifier(random_state=42)"
   ]
  },
  {
   "cell_type": "code",
   "execution_count": 20,
   "id": "309494a7",
   "metadata": {},
   "outputs": [
    {
     "data": {
      "text/html": [
       "<style>#sk-container-id-2 {color: black;}#sk-container-id-2 pre{padding: 0;}#sk-container-id-2 div.sk-toggleable {background-color: white;}#sk-container-id-2 label.sk-toggleable__label {cursor: pointer;display: block;width: 100%;margin-bottom: 0;padding: 0.3em;box-sizing: border-box;text-align: center;}#sk-container-id-2 label.sk-toggleable__label-arrow:before {content: \"▸\";float: left;margin-right: 0.25em;color: #696969;}#sk-container-id-2 label.sk-toggleable__label-arrow:hover:before {color: black;}#sk-container-id-2 div.sk-estimator:hover label.sk-toggleable__label-arrow:before {color: black;}#sk-container-id-2 div.sk-toggleable__content {max-height: 0;max-width: 0;overflow: hidden;text-align: left;background-color: #f0f8ff;}#sk-container-id-2 div.sk-toggleable__content pre {margin: 0.2em;color: black;border-radius: 0.25em;background-color: #f0f8ff;}#sk-container-id-2 input.sk-toggleable__control:checked~div.sk-toggleable__content {max-height: 200px;max-width: 100%;overflow: auto;}#sk-container-id-2 input.sk-toggleable__control:checked~label.sk-toggleable__label-arrow:before {content: \"▾\";}#sk-container-id-2 div.sk-estimator input.sk-toggleable__control:checked~label.sk-toggleable__label {background-color: #d4ebff;}#sk-container-id-2 div.sk-label input.sk-toggleable__control:checked~label.sk-toggleable__label {background-color: #d4ebff;}#sk-container-id-2 input.sk-hidden--visually {border: 0;clip: rect(1px 1px 1px 1px);clip: rect(1px, 1px, 1px, 1px);height: 1px;margin: -1px;overflow: hidden;padding: 0;position: absolute;width: 1px;}#sk-container-id-2 div.sk-estimator {font-family: monospace;background-color: #f0f8ff;border: 1px dotted black;border-radius: 0.25em;box-sizing: border-box;margin-bottom: 0.5em;}#sk-container-id-2 div.sk-estimator:hover {background-color: #d4ebff;}#sk-container-id-2 div.sk-parallel-item::after {content: \"\";width: 100%;border-bottom: 1px solid gray;flex-grow: 1;}#sk-container-id-2 div.sk-label:hover label.sk-toggleable__label {background-color: #d4ebff;}#sk-container-id-2 div.sk-serial::before {content: \"\";position: absolute;border-left: 1px solid gray;box-sizing: border-box;top: 0;bottom: 0;left: 50%;z-index: 0;}#sk-container-id-2 div.sk-serial {display: flex;flex-direction: column;align-items: center;background-color: white;padding-right: 0.2em;padding-left: 0.2em;position: relative;}#sk-container-id-2 div.sk-item {position: relative;z-index: 1;}#sk-container-id-2 div.sk-parallel {display: flex;align-items: stretch;justify-content: center;background-color: white;position: relative;}#sk-container-id-2 div.sk-item::before, #sk-container-id-2 div.sk-parallel-item::before {content: \"\";position: absolute;border-left: 1px solid gray;box-sizing: border-box;top: 0;bottom: 0;left: 50%;z-index: -1;}#sk-container-id-2 div.sk-parallel-item {display: flex;flex-direction: column;z-index: 1;position: relative;background-color: white;}#sk-container-id-2 div.sk-parallel-item:first-child::after {align-self: flex-end;width: 50%;}#sk-container-id-2 div.sk-parallel-item:last-child::after {align-self: flex-start;width: 50%;}#sk-container-id-2 div.sk-parallel-item:only-child::after {width: 0;}#sk-container-id-2 div.sk-dashed-wrapped {border: 1px dashed gray;margin: 0 0.4em 0.5em 0.4em;box-sizing: border-box;padding-bottom: 0.4em;background-color: white;}#sk-container-id-2 div.sk-label label {font-family: monospace;font-weight: bold;display: inline-block;line-height: 1.2em;}#sk-container-id-2 div.sk-label-container {text-align: center;}#sk-container-id-2 div.sk-container {/* jupyter's `normalize.less` sets `[hidden] { display: none; }` but bootstrap.min.css set `[hidden] { display: none !important; }` so we also need the `!important` here to be able to override the default hidden behavior on the sphinx rendered scikit-learn.org. See: https://github.com/scikit-learn/scikit-learn/issues/21755 */display: inline-block !important;position: relative;}#sk-container-id-2 div.sk-text-repr-fallback {display: none;}</style><div id=\"sk-container-id-2\" class=\"sk-top-container\"><div class=\"sk-text-repr-fallback\"><pre>DecisionTreeClassifier(random_state=42)</pre><b>In a Jupyter environment, please rerun this cell to show the HTML representation or trust the notebook. <br />On GitHub, the HTML representation is unable to render, please try loading this page with nbviewer.org.</b></div><div class=\"sk-container\" hidden><div class=\"sk-item\"><div class=\"sk-estimator sk-toggleable\"><input class=\"sk-toggleable__control sk-hidden--visually\" id=\"sk-estimator-id-2\" type=\"checkbox\" checked><label for=\"sk-estimator-id-2\" class=\"sk-toggleable__label sk-toggleable__label-arrow\">DecisionTreeClassifier</label><div class=\"sk-toggleable__content\"><pre>DecisionTreeClassifier(random_state=42)</pre></div></div></div></div></div>"
      ],
      "text/plain": [
       "DecisionTreeClassifier(random_state=42)"
      ]
     },
     "execution_count": 20,
     "metadata": {},
     "output_type": "execute_result"
    }
   ],
   "source": [
    "# Train the model\n",
    "dt_model.fit(x, y)"
   ]
  },
  {
   "cell_type": "code",
   "execution_count": 21,
   "id": "45a984c3",
   "metadata": {},
   "outputs": [],
   "source": [
    "# Calculate accuracy for training and test sets\n",
    "train_accuracy_dt = dt_model.score(x, y)\n",
    "test_accuracy_dt = dt_model.score(x_test, y_test)"
   ]
  },
  {
   "cell_type": "code",
   "execution_count": 22,
   "id": "97fba528",
   "metadata": {},
   "outputs": [
    {
     "name": "stdout",
     "output_type": "stream",
     "text": [
      "Decision Tree - Train Accuracy: 0.813\n",
      "Decision Tree - Test Accuracy: 0.673\n"
     ]
    }
   ],
   "source": [
    "print(\"Decision Tree - Train Accuracy: {:.3f}\".format(train_accuracy_dt))\n",
    "print(\"Decision Tree - Test Accuracy: {:.3f}\".format(test_accuracy_dt))"
   ]
  },
  {
   "cell_type": "code",
   "execution_count": 23,
   "id": "8d35be39",
   "metadata": {},
   "outputs": [
    {
     "name": "stdout",
     "output_type": "stream",
     "text": [
      "Decision Tree - Cross-Validation Accuracy: 0.673\n"
     ]
    }
   ],
   "source": [
    "# Perform cross-validation for Decision Tree\n",
    "dt_cv_scores = cross_val_score(dt_model, x, y, cv=10)\n",
    "print(\"Decision Tree - Cross-Validation Accuracy: {:.3f}\".format(np.mean(dt_cv_scores)))"
   ]
  },
  {
   "cell_type": "code",
   "execution_count": 24,
   "id": "cb3cd363",
   "metadata": {},
   "outputs": [
    {
     "name": "stdout",
     "output_type": "stream",
     "text": [
      "Naive Bayes - Cross-Validation Accuracy: 0.588\n"
     ]
    }
   ],
   "source": [
    "# Perform cross-validation for Naive Bayes model\n",
    "nb_cv_scores = cross_val_score(multinomial_nb_grid.best_estimator_, x, y, cv=10)\n",
    "print(\"Naive Bayes - Cross-Validation Accuracy: {:.3f}\".format(np.mean(nb_cv_scores)))"
   ]
  },
  {
   "cell_type": "code",
   "execution_count": 25,
   "id": "d6e73bc1",
   "metadata": {},
   "outputs": [
    {
     "name": "stdout",
     "output_type": "stream",
     "text": [
      "\n",
      "Comparison Summary:\n",
      "Naive Bayes Train Accuracy: 0.589\n",
      "Naive Bayes Test Accuracy: 0.602\n",
      "Naive Bayes Cross-Validation Accuracy: 0.588\n",
      "Decision Tree Train Accuracy: 0.813\n",
      "Decision Tree Test Accuracy: 0.673\n",
      "Decision Tree Cross-Validation Accuracy: 0.673\n"
     ]
    }
   ],
   "source": [
    "# Comparison Summary\n",
    "print(\"\\nComparison Summary:\")\n",
    "print(f\"Naive Bayes Train Accuracy: {multinomial_nb_grid.best_estimator_.score(x, y):.3f}\")\n",
    "print(f\"Naive Bayes Test Accuracy: {multinomial_nb_grid.best_estimator_.score(x_test, y_test):.3f}\")\n",
    "print(f\"Naive Bayes Cross-Validation Accuracy: {np.mean(nb_cv_scores):.3f}\")\n",
    "\n",
    "print(f\"Decision Tree Train Accuracy: {train_accuracy_dt:.3f}\")\n",
    "print(f\"Decision Tree Test Accuracy: {test_accuracy_dt:.3f}\")\n",
    "print(f\"Decision Tree Cross-Validation Accuracy: {np.mean(dt_cv_scores):.3f}\")"
   ]
  }
 ],
 "metadata": {
  "kernelspec": {
   "display_name": "base",
   "language": "python",
   "name": "python3"
  },
  "language_info": {
   "codemirror_mode": {
    "name": "ipython",
    "version": 3
   },
   "file_extension": ".py",
   "mimetype": "text/x-python",
   "name": "python",
   "nbconvert_exporter": "python",
   "pygments_lexer": "ipython3",
   "version": "3.11.5"
  }
 },
 "nbformat": 4,
 "nbformat_minor": 5
}
